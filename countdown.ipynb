{
 "cells": [
  {
   "cell_type": "markdown",
   "id": "46508fc0-2106-4662-b039-fbc8669da6b3",
   "metadata": {},
   "source": [
    "# Countdown Numbers\n",
    "***"
   ]
  },
  {
   "cell_type": "code",
   "execution_count": 1,
   "id": "cdbe5e85-f9c4-4879-b19b-2ea27698050c",
   "metadata": {},
   "outputs": [],
   "source": [
    "# Permutations and combinations.\n",
    "import itertools as it\n",
    "# Random number generation.\n",
    "import random\n",
    "# Operators as functions.\n",
    "import operator"
   ]
  },
  {
   "cell_type": "markdown",
   "id": "b3b64d88-32ba-4322-9a3d-5513259bf1ef",
   "metadata": {},
   "source": [
    "## Simulate a game\n",
    "\n",
    "***"
   ]
  },
  {
   "cell_type": "code",
   "execution_count": null,
   "id": "b3dfe9f1-72b7-48c5-9665-b8b7563dcd28",
   "metadata": {},
   "outputs": [],
   "source": []
  }
 ],
 "metadata": {
  "kernelspec": {
   "display_name": "Python 3 (ipykernel)",
   "language": "python",
   "name": "python3"
  },
  "language_info": {
   "codemirror_mode": {
    "name": "ipython",
    "version": 3
   },
   "file_extension": ".py",
   "mimetype": "text/x-python",
   "name": "python",
   "nbconvert_exporter": "python",
   "pygments_lexer": "ipython3",
   "version": "3.8.12"
  }
 },
 "nbformat": 4,
 "nbformat_minor": 5
}
