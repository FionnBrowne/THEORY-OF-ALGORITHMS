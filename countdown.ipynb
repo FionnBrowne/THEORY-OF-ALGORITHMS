{
 "cells": [
  {
   "cell_type": "markdown",
   "id": "dd9f7ffa-4a8b-42ff-bb5b-f37e8ef39040",
   "metadata": {},
   "source": [
    "# CountDown\n",
    "***\n",
    "https://en.wikipedia.org/wiki/Countdown_(game_show)\n",
    "https://colab.research.google.com/github/ianmcloughlin/jupyter-teaching-notebooks/blob/main/countdown_numbers.ipynb"
   ]
  },
  {
   "cell_type": "markdown",
   "id": "4600c3a6-7c0a-4f8f-bb5c-b8d8267c6b0e",
   "metadata": {},
   "source": [
    "## Rules for countdown\n",
    "1. Letters game, You must have at least 3 vouls and no more then 5. so the brake down would be as below until they have 9 letters"
   ]
  },
  {
   "cell_type": "markdown",
   "id": "fc603b8b-3898-45db-bb7d-89b241dddcd0",
   "metadata": {},
   "source": [
    "| Number of Vowles | Number of Consonants|\n",
    "| --- | --- |\n",
    "| 3 | 6 |\n",
    "| 4 | 5 |\n",
    "| 5 | 4 |"
   ]
  },
  {
   "cell_type": "markdown",
   "id": "45915f16-82b2-446e-8e07-8d973253e872",
   "metadata": {},
   "source": [
    "2. Numbers game, You can only use the four basic principles of mathamatics wich is addition subtraction division and multiplaction. Fractions arent allowed and all numbers dont have to be used but each number can only be used once"
   ]
  },
  {
   "cell_type": "markdown",
   "id": "1b06c1ee-901f-4ed7-b553-cf0897b90fd0",
   "metadata": {},
   "source": [
    "## Overview\n",
    "Countdown is a letters and numbers game where two contestence get a random selection of vouls and constence and must come up with the longest word possible within 30 seconds wins and gets a sertin amount of points. The Game is split into three sections.\n",
    "- First section of the game contains two letter rounds and a numbers round.\n",
    "- Second section contains two letter rounds and a number round with a brake then another two letter round followed with a number round.\n",
    "- Third Section also contains four letter rounds followed by a numbers round"
   ]
  },
  {
   "cell_type": "markdown",
   "id": "610140c7-39ee-42db-81a6-02e33af510f8",
   "metadata": {},
   "source": [
    "## Letters round\n",
    "***\n",
    "For example, Contestant One chooses five consonants, then three vowels, then another consonant.\n"
   ]
  },
  {
   "cell_type": "markdown",
   "id": "12018634-005c-41bb-9ca9-fc24e31a5234",
   "metadata": {},
   "source": [
    "| Selection is: ||||||||||\n",
    "| ---| --- | --- | --- | --- | --- | --- | --- | --- |  --- |\n",
    "| | G | Y | H | D | N | O | E | U | R |"
   ]
  },
  {
   "cell_type": "markdown",
   "id": "bbf590ce-eaac-45e2-876e-f71c77acfbde",
   "metadata": {},
   "source": [
    "Contestant One declares 7, while Contestant Two declares 8.\n",
    "<br>\n",
    "Contestant One reveals younger, but Contestant Two reveals hydrogen and scores 8 points. \n",
    "<br>\n",
    "Contestant One does not score.\n",
    "<br>\n",
    "Dictionary Corner notes greyhound, which would have scored 18 points for using all nine letters."
   ]
  },
  {
   "cell_type": "markdown",
   "id": "dcd9e84f-c768-437b-b260-b468096679fe",
   "metadata": {},
   "source": [
    "### Numbers round\n",
    "***\n",
    "\n",
    "For example, Contestant One requests two large numbers and four small numbers."
   ]
  },
  {
   "cell_type": "markdown",
   "id": "8ce6e428-4455-41eb-b017-f85e50ad7c77",
   "metadata": {},
   "source": [
    "| Selection is: |||||||\n",
    "| --- | --- | --- | --- | --- | --- | --- |\n",
    "| | 75 | 50 | 2 | 3 | 8 | 7 |"
   ]
  },
  {
   "cell_type": "markdown",
   "id": "d0c70921-cc35-4a7c-8b3d-9a1a20caa5de",
   "metadata": {},
   "source": [
    "| Randomly generated target is:|\n",
    "| --- |\n",
    "| 812 |"
   ]
  },
  {
   "cell_type": "markdown",
   "id": "e09decb3-bef6-4733-9165-35910588cb5b",
   "metadata": {},
   "source": [
    "Contestant One declares 813, while Contestant Two declares 815.\n",
    "<br>\n",
    "Contestant One is closer and so reveals: 75 + 50 – 8 = 117, and 117 × 7 – (3 × 2) = 813, which scores 7 points for being 1 away. Contestant Two does not score.\n",
    "<br>\n",
    "Assistant notes: 50 + 8 = 58, and 7 × 2 × 58 = 812, which would have scored 10 points."
   ]
  },
  {
   "cell_type": "markdown",
   "id": "46508fc0-2106-4662-b039-fbc8669da6b3",
   "metadata": {},
   "source": [
    "# Countdown Numbers\n",
    "***"
   ]
  },
  {
   "cell_type": "code",
   "execution_count": null,
   "id": "f0f20bc5-214d-4046-9fd0-5b2b70eb2d23",
   "metadata": {},
   "outputs": [],
   "source": []
  },
  {
   "cell_type": "code",
   "execution_count": 1,
   "id": "cdbe5e85-f9c4-4879-b19b-2ea27698050c",
   "metadata": {},
   "outputs": [],
   "source": [
    "# Permutations and combinations.\n",
    "import itertools as it\n",
    "# Random number generation.\n",
    "import random\n",
    "# Operators as functions.\n",
    "import operator"
   ]
  },
  {
   "cell_type": "markdown",
   "id": "b3b64d88-32ba-4322-9a3d-5513259bf1ef",
   "metadata": {},
   "source": [
    "## Simulate a game\n",
    "\n",
    "***"
   ]
  },
  {
   "cell_type": "code",
   "execution_count": null,
   "id": "9403bf7b-ddf9-4e83-9dbc-9527fc384636",
   "metadata": {},
   "outputs": [],
   "source": []
  },
  {
   "cell_type": "markdown",
   "id": "0fc3d87e-80d0-4ce7-9807-cb3e256a308f",
   "metadata": {},
   "source": [
    "# References\n",
    "***"
   ]
  },
  {
   "cell_type": "markdown",
   "id": "428de252-b244-4b58-9b09-46be18a9a0a9",
   "metadata": {},
   "source": [
    "1. https://en.wikipedia.org/wiki/Countdown_(game_show)\n",
    "2. https://colab.research.google.com/github/ianmcloughlin/jupyter-teaching-notebooks/blob/main/countdown_numbers.ipynb\n",
    "3. https://www.youtube.com/watch?v=rTm4riLuEZk\n",
    "4. https://docs.python.org/3/howto/functional.html"
   ]
  }
 ],
 "metadata": {
  "kernelspec": {
   "display_name": "Python 3 (ipykernel)",
   "language": "python",
   "name": "python3"
  },
  "language_info": {
   "codemirror_mode": {
    "name": "ipython",
    "version": 3
   },
   "file_extension": ".py",
   "mimetype": "text/x-python",
   "name": "python",
   "nbconvert_exporter": "python",
   "pygments_lexer": "ipython3",
   "version": "3.8.12"
  }
 },
 "nbformat": 4,
 "nbformat_minor": 5
}
