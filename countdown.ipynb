{
 "cells": [
  {
   "cell_type": "markdown",
   "id": "dd9f7ffa-4a8b-42ff-bb5b-f37e8ef39040",
   "metadata": {},
   "source": [
    "# Countdown\n",
    "***\n",
    "https://en.wikipedia.org/wiki/Countdown_(game_show)\n",
    "https://colab.research.google.com/github/ianmcloughlin/jupyter-teaching-notebooks/blob/main/countdown_numbers.ipynb"
   ]
  },
  {
   "cell_type": "markdown",
   "id": "1b06c1ee-901f-4ed7-b553-cf0897b90fd0",
   "metadata": {},
   "source": [
    "# Overview of Countdown\n",
    "***\n",
    "Countdown is a letters and numbers game where two contestants get a random selection of vowels and consonants and must come up with the longest word possible within 30 seconds wins and gets a certain amount of points. The Game is split into three sections.\n",
    "- The first section of the Game contains two letter rounds and a numbers round.\n",
    "- The second section contains two letter rounds and a number round with a break, then another two letter round followed by a number round.\n",
    "- The third section also contains four-letter rounds followed by a numbers round."
   ]
  },
  {
   "cell_type": "markdown",
   "id": "4600c3a6-7c0a-4f8f-bb5c-b8d8267c6b0e",
   "metadata": {},
   "source": [
    "# Rules for countdown\n",
    "***\n",
    "1. Letters game, You must have at least three vowels and no more than five. so the brake down would be as below until they have nine letters."
   ]
  },
  {
   "cell_type": "markdown",
   "id": "fc603b8b-3898-45db-bb7d-89b241dddcd0",
   "metadata": {},
   "source": [
    "| Number of Vowels | Number of Consonants|\n",
    "| --- | --- |\n",
    "| 3 | 6 |\n",
    "| 4 | 5 |\n",
    "| 5 | 4 |"
   ]
  },
  {
   "cell_type": "markdown",
   "id": "45915f16-82b2-446e-8e07-8d973253e872",
   "metadata": {},
   "source": [
    "2. Numbers game, You can only use the four basic principles of mathematics: addition, subtraction, division and multiplication. Fractions are not allowed, and all numbers do not have to be used, but each number can only be used once."
   ]
  },
  {
   "cell_type": "markdown",
   "id": "610140c7-39ee-42db-81a6-02e33af510f8",
   "metadata": {},
   "source": [
    "## Letters round\n",
    "https://ukgameshows.fandom.com/wiki/Countdown\n",
    "***\n",
    "The competitor in control chooses between two stacks of letter tiles, one containing vowels and the other consonants. The assistant then selects the top tile from each deck picked until the final grouping is picked. This must contain at least three vowels and four consonants. The contestants then have 30 seconds to make the longest single word possible, and each letter tile can only be used once.\n",
    "\n",
    "The contestants must write down their words. If not done in the time, they must state so. If both contestants have the same word length, they must give their word first to prevent cheating. The contestant with the longer valid word gets one point for each extra letter. If all nine are used, they get a eighteen points\n",
    "\n",
    "For example, Contestant One chooses five consonants, three vowels, and another consonant."
   ]
  },
  {
   "cell_type": "markdown",
   "id": "12018634-005c-41bb-9ca9-fc24e31a5234",
   "metadata": {},
   "source": [
    "| Selection is: ||||||||||\n",
    "| ---| --- | --- | --- | --- | --- | --- | --- | --- |  --- |\n",
    "| | G | Y | H | D | N | O | E | U | R |"
   ]
  },
  {
   "cell_type": "markdown",
   "id": "bbf590ce-eaac-45e2-876e-f71c77acfbde",
   "metadata": {},
   "source": [
    "Contestant One declares 7, while Contestant Two declares 8.\n",
    "<br>\n",
    "Contestant One reveals younger, but Contestant Two reveals hydrogen and scores 8 points. \n",
    "<br>\n",
    "Contestant One does not score.\n",
    "<br>\n",
    "Dictionary Corner notes greyhound, which would have scored 18 points for using all nine letters."
   ]
  },
  {
   "cell_type": "markdown",
   "id": "dcd9e84f-c768-437b-b260-b468096679fe",
   "metadata": {},
   "source": [
    "### Numbers round\n",
    "https://ukgameshows.fandom.com/wiki/Countdown\n",
    "***\n",
    "\n",
    "The contestants in control choose six face-down number cards of twenty-four, which are sorted into two groups.\n",
    "- \"small numbers\" consists of 20 of the 24 cards and ranges from 1 to 10 twice.\n",
    "- \"large numbers\" contains four cards 25,50,75,100.\n",
    "<br>\n",
    "\n",
    "Next, the contestant chooses how many \"large numbers\" they want. It can be none to all four cards. After this, the remaining free cards are drawn from the \"small numbers\". These cards are all drawn at random. Next, a random three-digit goal number is created. The contestant then has 30 seconds to work out an order of calculations with the numbers given. Each card can only be used once but does not need to use all six cards. The division of a number can only occur if the remainder is a whole number. Also, only positive integers are allowed at each stage of the calculation. The contestant with the answer closest to the target score gets points.\n",
    "- Ten points for having the exact score.\n",
    "- Seven points for being 1-5 away.\n",
    "- Five points for being 6-10 away.\n",
    "\n",
    "<br>\n",
    "If the contestant's score is more than ten off, they receive no points if they take too long to calculate or if their calculations are wrong. Both contestants score if they have the same result or are the same distance away\n",
    "<br>\n",
    "\n",
    "For example, Contestant One requests two large numbers and four small numbers."
   ]
  },
  {
   "cell_type": "markdown",
   "id": "8ce6e428-4455-41eb-b017-f85e50ad7c77",
   "metadata": {},
   "source": [
    "| Selection is: |||||||\n",
    "| --- | --- | --- | --- | --- | --- | --- |\n",
    "| | 75 | 50 | 2 | 3 | 8 | 7 |"
   ]
  },
  {
   "cell_type": "markdown",
   "id": "d0c70921-cc35-4a7c-8b3d-9a1a20caa5de",
   "metadata": {},
   "source": [
    "| Randomly generated target is:|\n",
    "| --- |\n",
    "| 812 |"
   ]
  },
  {
   "cell_type": "markdown",
   "id": "e09decb3-bef6-4733-9165-35910588cb5b",
   "metadata": {},
   "source": [
    "Contestant One declares 813, while Contestant Two declares 815.\n",
    "<br>\n",
    "Contestant One is closer and so reveals: 75 + 50 – 8 = 117, and 117 × 7 – (3 × 2) = 813, which scores 7 points for being 1 away. Contestant Two does not score.\n",
    "<br>\n",
    "Assistant notes: 50 + 8 = 58, and 7 × 2 × 58 = 812, which would have scored 10 points."
   ]
  },
  {
   "cell_type": "markdown",
   "id": "46508fc0-2106-4662-b039-fbc8669da6b3",
   "metadata": {},
   "source": [
    "# Countdown Numbers\n",
    "***"
   ]
  },
  {
   "cell_type": "code",
   "execution_count": 1,
   "id": "cdbe5e85-f9c4-4879-b19b-2ea27698050c",
   "metadata": {},
   "outputs": [],
   "source": [
    "# Permutations and combinations.\n",
    "import itertools as it\n",
    "# Random number generation.\n",
    "import random\n",
    "# Operators as functions.\n",
    "import operator"
   ]
  },
  {
   "cell_type": "markdown",
   "id": "b3b64d88-32ba-4322-9a3d-5513259bf1ef",
   "metadata": {},
   "source": [
    "## Simulate a game\n",
    "\n",
    "***"
   ]
  },
  {
   "cell_type": "code",
   "execution_count": 1,
   "id": "9403bf7b-ddf9-4e83-9dbc-9527fc384636",
   "metadata": {},
   "outputs": [
    {
     "data": {
      "text/plain": [
       "[25, 50, 75, 100]"
      ]
     },
     "execution_count": 1,
     "metadata": {},
     "output_type": "execute_result"
    }
   ],
   "source": [
    "# The large numbers.\n",
    "large = [25, 50, 75, 100]\n",
    "large"
   ]
  },
  {
   "cell_type": "code",
   "execution_count": 2,
   "id": "0358ea33-3a38-45ea-9fbe-ba8e295e58a5",
   "metadata": {},
   "outputs": [
    {
     "data": {
      "text/plain": [
       "[1, 2, 3, 4, 5, 6, 7, 8, 9, 10, 1, 2, 3, 4, 5, 6, 7, 8, 9, 10]"
      ]
     },
     "execution_count": 2,
     "metadata": {},
     "output_type": "execute_result"
    }
   ],
   "source": [
    "# The small numbers.\n",
    "small = list(range(1, 11)) * 2\n",
    "small"
   ]
  },
  {
   "cell_type": "markdown",
   "id": "0fc3d87e-80d0-4ce7-9807-cb3e256a308f",
   "metadata": {},
   "source": [
    "# References\n",
    "***"
   ]
  },
  {
   "cell_type": "markdown",
   "id": "428de252-b244-4b58-9b09-46be18a9a0a9",
   "metadata": {},
   "source": [
    "1. https://en.wikipedia.org/wiki/Countdown_(game_show)\n",
    "2. https://colab.research.google.com/github/ianmcloughlin/jupyter-teaching-notebooks/blob/main/countdown_numbers.ipynb\n",
    "3. https://www.youtube.com/watch?v=rTm4riLuEZk\n",
    "4. https://docs.python.org/3/howto/functional.html"
   ]
  }
 ],
 "metadata": {
  "kernelspec": {
   "display_name": "Python 3 (ipykernel)",
   "language": "python",
   "name": "python3"
  },
  "language_info": {
   "codemirror_mode": {
    "name": "ipython",
    "version": 3
   },
   "file_extension": ".py",
   "mimetype": "text/x-python",
   "name": "python",
   "nbconvert_exporter": "python",
   "pygments_lexer": "ipython3",
   "version": "3.8.12"
  }
 },
 "nbformat": 4,
 "nbformat_minor": 5
}
