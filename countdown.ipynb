{
 "cells": [
  {
   "cell_type": "markdown",
   "id": "dd9f7ffa-4a8b-42ff-bb5b-f37e8ef39040",
   "metadata": {},
   "source": [
    "# Countdown\n",
    "***\n",
    "https://en.wikipedia.org/wiki/Countdown_(game_show)\n",
    "https://colab.research.google.com/github/ianmcloughlin/jupyter-teaching-notebooks/blob/main/countdown_numbers.ipynb"
   ]
  },
  {
   "cell_type": "markdown",
   "id": "1b06c1ee-901f-4ed7-b553-cf0897b90fd0",
   "metadata": {},
   "source": [
    "# Overview of Countdown\n",
    "***\n",
    "Countdown is a letters and numbers game where two contestants get a random selection of vowels and consonants and must come up with the longest word possible or a score closest to the target score within 30 seconds. The Game is split into three sections.\n",
    "- The first section of the Game contains two letter rounds and a numbers round.\n",
    "- The second section contains two letter rounds and a number round with a break, then another two letter round followed by a number round.\n",
    "- The third section also contains four-letter rounds followed by a numbers round."
   ]
  },
  {
   "cell_type": "markdown",
   "id": "4600c3a6-7c0a-4f8f-bb5c-b8d8267c6b0e",
   "metadata": {},
   "source": [
    "# Rules for Countdown\n",
    "***\n",
    "1. Letters game, The players must have at least three vowels and no more than five. The brake down would be as below until they have nine letters."
   ]
  },
  {
   "cell_type": "markdown",
   "id": "fc603b8b-3898-45db-bb7d-89b241dddcd0",
   "metadata": {},
   "source": [
    "| Number of Vowels | Number of Consonants|\n",
    "| --- | --- |\n",
    "| 3 | 6 |\n",
    "| 4 | 5 |\n",
    "| 5 | 4 |"
   ]
  },
  {
   "cell_type": "markdown",
   "id": "45915f16-82b2-446e-8e07-8d973253e872",
   "metadata": {},
   "source": [
    "2. Numbers game, You can only use the four basic principles of mathematics: Addition, subtraction, division and multiplication. Fractions are not allowed, all numbers do not have to be used, but each number can only be used once. The players have to find a number randomly generated between 101 to  99 or, if this is not possible, the closest number to the target score."
   ]
  },
  {
   "cell_type": "markdown",
   "id": "610140c7-39ee-42db-81a6-02e33af510f8",
   "metadata": {},
   "source": [
    "## Letters round\n",
    "https://ukgameshows.fandom.com/wiki/Countdown\n",
    "***\n",
    "The competitor in control chooses between two stacks of letter tiles, one containing vowels and the other consonants. The assistant then selects the top tile from each deck picked until the final grouping is picked. This must contain at least three vowels and four consonants. The contestants then have 30 seconds to make the longest single word possible, and each letter tile can only be used once.\n",
    "\n",
    "The contestants must write down their words. If not done in the time, they must state so. If both contestants have the same word length, they must give their word first to prevent cheating. The contestant with the longer valid word gets one point for each extra letter. If all nine are used, they get eighteen points.\n",
    "\n",
    "For example, Contestant One chooses five consonants, three vowels, and another consonant."
   ]
  },
  {
   "cell_type": "markdown",
   "id": "12018634-005c-41bb-9ca9-fc24e31a5234",
   "metadata": {},
   "source": [
    "| Selection is: ||||||||||\n",
    "| ---| --- | --- | --- | --- | --- | --- | --- | --- |  --- |\n",
    "| | G | Y | H | D | N | O | E | U | R |"
   ]
  },
  {
   "cell_type": "markdown",
   "id": "bbf590ce-eaac-45e2-876e-f71c77acfbde",
   "metadata": {},
   "source": [
    "Contestant One declares 7, while Contestant Two declares 8.\n",
    "<br>\n",
    "Contestant One reveals younger, but Contestant Two reveals hydrogen and scores 8 points. \n",
    "<br>\n",
    "Contestant One does not score.\n",
    "<br>\n",
    "Dictionary Corner notes 'greyhound', which would have scored 18 points for using all nine letters."
   ]
  },
  {
   "cell_type": "markdown",
   "id": "dcd9e84f-c768-437b-b260-b468096679fe",
   "metadata": {},
   "source": [
    "### Numbers round\n",
    "https://ukgameshows.fandom.com/wiki/Countdown\n",
    "***\n",
    "\n",
    "The contestant in control chooses six face-down number cards of twentyfour, which are sorted into two groups.\n",
    "- \"small numbers\" consists of 20 of the 24 cards and ranges from 1 to 10 twice.\n",
    "- \"large numbers\" contains four cards 25,50,75,100.\n",
    "<br>\n",
    "\n",
    "Next, the player choose how many \"large numbers\" they want, they can choose up to all four cards. After this, the remaining free cards are drawn from the \"small numbers\". These cards are all drawn at random. Next, a random three-digit goal number is created. The contestant then has 30 seconds to work out an order of calculations with the numbers given. Each card can only be used once but it is not a requirement to use all six cards. The division of a number can only occur if the remainder is a whole number. Also, only positive integers are allowed at each stage of the calculation. The contestant with the answer closest to the target score gets points.\n",
    "- Ten points for having the exact score.\n",
    "- Seven points for being 1-5 away.\n",
    "- Five points for being 6-10 away.\n",
    "\n",
    "<br>\n",
    "If the contestant's score is more than ten off, if they take too long to calculate or if their calculations are wrong, they receive no points. Both contestants score if they have the same result or are the same distance away.\n",
    "<br>\n",
    "\n",
    "For example, Contestant One requests two large numbers and four small numbers."
   ]
  },
  {
   "cell_type": "markdown",
   "id": "8ce6e428-4455-41eb-b017-f85e50ad7c77",
   "metadata": {},
   "source": [
    "| Selection is: |||||||\n",
    "| --- | --- | --- | --- | --- | --- | --- |\n",
    "| | 75 | 50 | 2 | 3 | 8 | 7 |"
   ]
  },
  {
   "cell_type": "markdown",
   "id": "d0c70921-cc35-4a7c-8b3d-9a1a20caa5de",
   "metadata": {},
   "source": [
    "| Randomly generated target is:|\n",
    "| --- |\n",
    "| 812 |"
   ]
  },
  {
   "cell_type": "markdown",
   "id": "e09decb3-bef6-4733-9165-35910588cb5b",
   "metadata": {},
   "source": [
    "Contestant One declares 813, while Contestant Two declares 815.\n",
    "<br>\n",
    "Contestant One is closer and so reveals: 75 + 50 – 8 = 117, and 117 × 7 – (3 × 2) = 813, which scores 7 points for being 1 away. Contestant Two does not score.\n",
    "<br>\n",
    "Assistant notes: 50 + 8 = 58, and 7 × 2 × 58 = 812, which would have scored 10 points."
   ]
  },
  {
   "cell_type": "markdown",
   "id": "46508fc0-2106-4662-b039-fbc8669da6b3",
   "metadata": {},
   "source": [
    "# Countdown Numbers\n",
    "***"
   ]
  },
  {
   "cell_type": "code",
   "execution_count": 1,
   "id": "cdbe5e85-f9c4-4879-b19b-2ea27698050c",
   "metadata": {},
   "outputs": [],
   "source": [
    "# Permutations and combinations.\n",
    "import itertools as it\n",
    "# Random number generation.\n",
    "import random\n",
    "# Operators as functions.\n",
    "import operator\n",
    "# For random nubmers and samples.\n",
    "import random"
   ]
  },
  {
   "cell_type": "markdown",
   "id": "a311ff7e-edc1-4bd0-82de-1edf4d64277a",
   "metadata": {},
   "source": [
    "# Complexity of the Countdown Numbers Game\n",
    "https://easychair.org/publications/open/2L76\n",
    "***"
   ]
  },
  {
   "cell_type": "markdown",
   "id": "e23b6744-ca8f-464d-a01a-2a1ade3cb47c",
   "metadata": {},
   "source": [
    "The maximum complexity of this game is\n",
    "<br>\n",
    "$  (6×4)×(5×4)×(4×4)×(3×4)×(2×4)×(1×4)$  = $6!4^6$\n",
    "<br>\n",
    "\n",
    "When using all six cards given, the maximal number of operations is 491520. An example of the operations would be if six cards are drawn {1, 1, 4, 5, 6, 7} and the number to find is 899 then the solution would be"
   ]
  },
  {
   "cell_type": "markdown",
   "id": "aae4b33c-a05a-4c4b-9269-56d1085d3138",
   "metadata": {},
   "source": [
    "| **Operations** | **Remaining** |\n",
    "| --- | --- |\n",
    "|  **6 x 5 = 30** | **{1, 1, 4, 7, 30}** |\n",
    "|  **30 + 1 = 31** | **{1, 4, 7, 31}** |\n",
    "|  **4 x 7 = 28** | **{1, 28, 31}** |\n",
    "|  **28 + 1 = 29** | **{29, 31}** |\n",
    "|  **29 x 31 = 899** | **{899}** |"
   ]
  },
  {
   "cell_type": "markdown",
   "id": "e50a0f7a-f361-44da-8aba-d8ec7f70b66d",
   "metadata": {},
   "source": [
    "For all six cards, we have 13243 possible sets. In the standard numbers round of the game,\n",
    "the target range is between 101 to 999. This results in $899 × 13243 = 11905457$ possible\n",
    "problems. \"10858746 games are solvable (91.2%),\"https://easychair.org/publications/open/2L76 $743896$ problems (6.25%) have a solution at a\n",
    "distance of 1 (the nearest number). 1226 instances out of 13243 (9.2%) solve all target numbers\n",
    "between 101 and 999. The figure below illustrates the percentage of instances finding a specific target.\n",
    "\n",
    "![graph.JPG](\"https://github.com/FionnBrowne/THEORY-OF-ALGORITHMS/blob/main/lab_work/Image/graph.JPG\")\n",
    "\n",
    "<br>\n",
    "https://easychair.org/publications/open/2L76\n",
    "<br>\n",
    " x-axis represents number to find; y-axis is the percentage of instances finding the number \n"
   ]
  },
  {
   "cell_type": "code",
   "execution_count": 2,
   "id": "33dd279c-3078-479a-a3ab-d46b7752844c",
   "metadata": {},
   "outputs": [
    {
     "data": {
      "text/plain": [
       "720"
      ]
     },
     "execution_count": 2,
     "metadata": {},
     "output_type": "execute_result"
    }
   ],
   "source": [
    "# A six element list of using all cards for countdown has a permutation of 720 \n",
    "6*5*4*3*2*1"
   ]
  },
  {
   "cell_type": "code",
   "execution_count": 3,
   "id": "de8b7c8c-05fd-4c6a-a912-ebcf045de410",
   "metadata": {},
   "outputs": [
    {
     "data": {
      "text/plain": [
       "720"
      ]
     },
     "execution_count": 3,
     "metadata": {},
     "output_type": "execute_result"
    }
   ],
   "source": [
    "# No of permutations of playing numbers.\n",
    "import math\n",
    "math.factorial(6)"
   ]
  },
  {
   "cell_type": "code",
   "execution_count": 4,
   "id": "8f93828f-20b5-4754-a83a-b69d44e45492",
   "metadata": {},
   "outputs": [
    {
     "name": "stdout",
     "output_type": "stream",
     "text": [
      "(1, 2, 3, 4, 5, 6)\n",
      "(1, 2, 3, 4, 6, 5)\n",
      "(1, 2, 3, 5, 4, 6)\n",
      "(1, 2, 3, 5, 6, 4)\n",
      "(1, 2, 3, 6, 4, 5)\n",
      "(1, 2, 3, 6, 5, 4)\n",
      "(1, 2, 4, 3, 5, 6)\n",
      "(1, 2, 4, 3, 6, 5)\n",
      "(1, 2, 4, 5, 3, 6)\n",
      "(1, 2, 4, 5, 6, 3)\n"
     ]
    }
   ],
   "source": [
    "# All permutations of a full deck of cards [1,2,3,4,5,6]. limited to first 10 for de-clutter sake   \n",
    "from itertools import permutations\n",
    "m=[1, 2, 3, 4, 5, 6]\n",
    "per=permutations(m)\n",
    "temp=1\n",
    "for i in list(per):\n",
    "    if temp<=10:    #2 is the limit set\n",
    "       print (i)\n",
    "       temp=temp+1\n",
    "    else:\n",
    "       break"
   ]
  },
  {
   "cell_type": "markdown",
   "id": "b3b64d88-32ba-4322-9a3d-5513259bf1ef",
   "metadata": {},
   "source": [
    "## Simulate a game\n",
    "\n",
    "***"
   ]
  },
  {
   "cell_type": "code",
   "execution_count": 5,
   "id": "9403bf7b-ddf9-4e83-9dbc-9527fc384636",
   "metadata": {},
   "outputs": [
    {
     "data": {
      "text/plain": [
       "[25, 50, 75, 100]"
      ]
     },
     "execution_count": 5,
     "metadata": {},
     "output_type": "execute_result"
    }
   ],
   "source": [
    "# The \"large numbers\".\n",
    "large = [25, 50, 75, 100]\n",
    "large"
   ]
  },
  {
   "cell_type": "code",
   "execution_count": 6,
   "id": "0358ea33-3a38-45ea-9fbe-ba8e295e58a5",
   "metadata": {},
   "outputs": [
    {
     "data": {
      "text/plain": [
       "[1, 2, 3, 4, 5, 6, 7, 8, 9, 10, 1, 2, 3, 4, 5, 6, 7, 8, 9, 10]"
      ]
     },
     "execution_count": 6,
     "metadata": {},
     "output_type": "execute_result"
    }
   ],
   "source": [
    "# The \"small numbers\". duplicating list as the deck contains two sets of 1-10\n",
    "small = list(range(1, 11)) * 2\n",
    "small"
   ]
  },
  {
   "cell_type": "code",
   "execution_count": 7,
   "id": "f2b97ba8-e551-4a20-86f8-cb191ead827c",
   "metadata": {},
   "outputs": [
    {
     "data": {
      "text/plain": [
       "0"
      ]
     },
     "execution_count": 7,
     "metadata": {},
     "output_type": "execute_result"
    }
   ],
   "source": [
    "# The number of \"large numbers\" to pick - can choose between 0 and 4 cards.\n",
    "no_large = random.randrange(0, 5)\n",
    "no_large"
   ]
  },
  {
   "cell_type": "code",
   "execution_count": 8,
   "id": "bb005209-6081-41ac-b781-a1e84afc065b",
   "metadata": {},
   "outputs": [
    {
     "data": {
      "text/plain": [
       "[]"
      ]
     },
     "execution_count": 8,
     "metadata": {},
     "output_type": "execute_result"
    }
   ],
   "source": [
    "# Select no_large large numbers at random. Must be unique with sample\n",
    "large_rand = random.sample(large, no_large)\n",
    "large_rand"
   ]
  },
  {
   "cell_type": "code",
   "execution_count": 9,
   "id": "5c3b0c90-556c-4361-adf7-95db87330f99",
   "metadata": {},
   "outputs": [
    {
     "data": {
      "text/plain": [
       "[2, 4, 8, 3, 9, 10]"
      ]
     },
     "execution_count": 9,
     "metadata": {},
     "output_type": "execute_result"
    }
   ],
   "source": [
    "# Select (6 - no_large) small numbers at random. AS the player can choose up to 4 large numbers\n",
    "small_rand = random.sample(small, 6 - no_large)\n",
    "small_rand"
   ]
  },
  {
   "cell_type": "code",
   "execution_count": 10,
   "id": "55420b8f-7762-41b6-ab03-90bd0e1679ef",
   "metadata": {},
   "outputs": [
    {
     "data": {
      "text/plain": [
       "[2, 4, 8, 3, 9, 10]"
      ]
     },
     "execution_count": 10,
     "metadata": {},
     "output_type": "execute_result"
    }
   ],
   "source": [
    "# The six random numbers in a list.\n",
    "play_nos = large_rand + small_rand\n",
    "play_nos"
   ]
  },
  {
   "cell_type": "code",
   "execution_count": 11,
   "id": "ad0de251-648e-480b-bba7-b29ed7786ffe",
   "metadata": {},
   "outputs": [
    {
     "data": {
      "text/plain": [
       "664"
      ]
     },
     "execution_count": 11,
     "metadata": {},
     "output_type": "execute_result"
    }
   ],
   "source": [
    "# Pick a random target number. Cant be 100 as its a \"large number\"\n",
    "target = random.randrange(101, 1000)\n",
    "target"
   ]
  },
  {
   "cell_type": "code",
   "execution_count": 12,
   "id": "6046ca36-8fa2-4933-899d-d7621b435f08",
   "metadata": {},
   "outputs": [],
   "source": [
    "def new_numbers_game(no_large=None):\n",
    "  \"\"\" Returns six numbers and a target number representing a Countdown numbers game.\n",
    "  \"\"\"\n",
    "  # If no_large in None, randomly pick value between 0 and 4 inclusive.\n",
    "  if no_large is None:\n",
    "    # Randomly set the value.\n",
    "    no_large = random.randrange(0, 5)\n",
    "  \n",
    "  # Select random large numbers.\n",
    "  large_rand = random.sample([25, 50, 75, 100], no_large)\n",
    "  # Select random small numbers.\n",
    "  small_rand = random.sample(list(range(1, 11)) * 2, 6 - no_large)\n",
    "  # The playing numbers.\n",
    "  play_nos = large_rand + small_rand\n",
    "\n",
    "  # Select a target number.\n",
    "  target = random.randrange(101, 1000)\n",
    "\n",
    "  # Return the game.\n",
    "  return play_nos, target"
   ]
  },
  {
   "cell_type": "code",
   "execution_count": 13,
   "id": "4bc74b7b-18c4-4418-927f-3bd5f00e0858",
   "metadata": {},
   "outputs": [
    {
     "data": {
      "text/plain": [
       "([75, 100, 50, 25, 4, 8], 994)"
      ]
     },
     "execution_count": 13,
     "metadata": {},
     "output_type": "execute_result"
    }
   ],
   "source": [
    "# Random nubmers game.\n",
    "new_game = new_numbers_game\n",
    "new_game()"
   ]
  },
  {
   "cell_type": "markdown",
   "id": "38ebec90-a1de-455c-b1f8-a8bbe6b38d28",
   "metadata": {},
   "source": [
    "# Countdown Numbers Game\n",
    "***"
   ]
  },
  {
   "cell_type": "code",
   "execution_count": null,
   "id": "a1c0e10d-9967-4ce2-82e0-56a8689faebb",
   "metadata": {},
   "outputs": [],
   "source": []
  },
  {
   "cell_type": "code",
   "execution_count": null,
   "id": "2bc5411d-09b6-487d-b0df-9d551f482c4a",
   "metadata": {},
   "outputs": [],
   "source": []
  },
  {
   "cell_type": "markdown",
   "id": "0fc3d87e-80d0-4ce7-9807-cb3e256a308f",
   "metadata": {},
   "source": [
    "# References\n",
    "***"
   ]
  },
  {
   "cell_type": "markdown",
   "id": "428de252-b244-4b58-9b09-46be18a9a0a9",
   "metadata": {},
   "source": [
    "1. https://en.wikipedia.org/wiki/Countdown_(game_show)\n",
    "2. https://colab.research.google.com/github/ianmcloughlin/jupyter-teaching-notebooks/blob/main/countdown_numbers.ipynb\n",
    "3. https://www.youtube.com/watch?v=rTm4riLuEZk\n",
    "4. https://docs.python.org/3/howto/functional.html"
   ]
  }
 ],
 "metadata": {
  "kernelspec": {
   "display_name": "Python 3 (ipykernel)",
   "language": "python",
   "name": "python3"
  },
  "language_info": {
   "codemirror_mode": {
    "name": "ipython",
    "version": 3
   },
   "file_extension": ".py",
   "mimetype": "text/x-python",
   "name": "python",
   "nbconvert_exporter": "python",
   "pygments_lexer": "ipython3",
   "version": "3.8.12"
  }
 },
 "nbformat": 4,
 "nbformat_minor": 5
}
