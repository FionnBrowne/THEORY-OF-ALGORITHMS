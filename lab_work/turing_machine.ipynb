{
 "cells": [
  {
   "cell_type": "markdown",
   "id": "33585e78-070e-4e2c-8137-56a6bb010c39",
   "metadata": {},
   "source": [
    "# Turing machine\n",
    "***"
   ]
  },
  {
   "cell_type": "markdown",
   "id": "61dd1deb-9f34-4588-9858-0a3e40191a73",
   "metadata": {},
   "source": [
    "$\\begin{array}{x{1cm}x{1cm}x{1cm}x{1cm}x{1cm}}\n",
    "    \\textrm{State} & \\textrm{Input} & \\textrm{Write} & \\textrm{Move} & \\textrm{Next} \\\\\n",
    "    \\hline\n",
    "    A & 0  & 0 & R & A \\\\\n",
    "    A & 1  & 1 & R & B \\\\\n",
    "    A & \\sqcup  & \\sqcup & L & T \\\\\n",
    "    \\hline\n",
    "    B & 0  & 0 & R & B \\\\\n",
    "    B & 0  & 0 & R & A \\\\\n",
    "    B & \\sqcup  & \\sqcup & L & F \\\\\n",
    "    \\hline\n",
    "\\end{array}$"
   ]
  },
  {
   "cell_type": "code",
   "execution_count": 1,
   "id": "c38bbccb-61d0-4490-ad2f-3ec59b3613b2",
   "metadata": {},
   "outputs": [
    {
     "data": {
      "text/plain": [
       "[['A', '0', '0', 'R', 'A'],\n",
       " ['A', '1', '1', 'R', 'B'],\n",
       " ['A', '_', '_', 'L', 'T'],\n",
       " ['B', '0', '0', 'R', 'B'],\n",
       " ['B', '1', '1', 'R', 'A'],\n",
       " ['B', '_', '_', 'L', 'F']]"
      ]
     },
     "execution_count": 1,
     "metadata": {},
     "output_type": "execute_result"
    }
   ],
   "source": [
    "# Represent the state table in some Python data structure.\n",
    "states = [\n",
    "    ['A', '0', '0', 'R', 'A'],\n",
    "    ['A', '1', '1', 'R', 'B'],\n",
    "    ['A', '_', '_', 'L', 'T'],\n",
    "    ['B', '0', '0', 'R', 'B'],\n",
    "    ['B', '1', '1', 'R', 'A'],\n",
    "    ['B', '_', '_', 'L', 'F'],\n",
    "]\n",
    "states"
   ]
  },
  {
   "cell_type": "code",
   "execution_count": 2,
   "id": "6a188714-d28b-4eae-84b4-9ca96e6c4d95",
   "metadata": {},
   "outputs": [],
   "source": [
    "# Get the Turing machine to take a single step forward.\n",
    "def step(tape, pos, state, states):\n",
    "    # If tape is an empty string, put a blank symbol on it.\n",
    "    if not tape:\n",
    "        tape = ['_'] + tape\n",
    "    # Select the correct row of the table.\n",
    "    for row in states:\n",
    "        if row[0] == state and row[1] == tape[pos]:\n",
    "            break\n",
    "    # Over-write current symbol.\n",
    "    tape[pos] = row[2]\n",
    "    # Move left or right.\n",
    "    if row[3] == 'R':\n",
    "        pos = pos + 1\n",
    "    else:\n",
    "        pos = pos - 1\n",
    "    # Fix the tape if we go off either end.\n",
    "    while pos < 0:\n",
    "        tape = ['_'] + tape\n",
    "        pos = pos + 1\n",
    "    while pos >= len(tape):\n",
    "        tape = tape + ['_']\n",
    "    # Change the state.\n",
    "    state = row[4]\n",
    "    # Return the new configuration.\n",
    "    return tape, pos, state"
   ]
  },
  {
   "cell_type": "code",
   "execution_count": 3,
   "id": "1251864f-502b-4ca6-b695-740852952e22",
   "metadata": {},
   "outputs": [],
   "source": [
    "# Run the machine.\n",
    "def run_machine(states, tape):\n",
    "    # Start state is top left in state table.\n",
    "    state = states[0][0]\n",
    "    # Starting position is leftmost cell of the tape.\n",
    "    pos = 0\n",
    "    # Turn the tape into a list.\n",
    "    tape = list(tape)\n",
    "    # Run the machine until we get a terminal state.\n",
    "    while state not in {'T', 'F'}:\n",
    "        # Display the current configuration.\n",
    "        print(state, f'{pos:2}', ''.join(tape))\n",
    "        # Step the machine forward.\n",
    "        tape, pos, state = step(tape, pos, state, states)\n",
    "    # Show the final configuration.\n",
    "    print(state, f'{pos:2}', ''.join(tape))"
   ]
  },
  {
   "cell_type": "code",
   "execution_count": 4,
   "id": "13149840-273d-4ff9-bc3e-a0d97110defa",
   "metadata": {},
   "outputs": [
    {
     "name": "stdout",
     "output_type": "stream",
     "text": [
      "A  0 111\n",
      "B  1 111\n",
      "A  2 111\n",
      "B  3 111_\n",
      "F  2 111_\n"
     ]
    }
   ],
   "source": [
    "# Run an example.\n",
    "run_machine(states, '111')"
   ]
  },
  {
   "cell_type": "markdown",
   "id": "4efdfc22-e29d-46df-b1a6-6a3244e9aa74",
   "metadata": {},
   "source": [
    "# Halting Problem\n",
    "https://brilliant.org/wiki/halting-problem/\n",
    "***\n"
   ]
  },
  {
   "cell_type": "markdown",
   "id": "295a7bf3-fae1-4fba-907e-dad1bdd505b7",
   "metadata": {},
   "source": [
    "Program: *p*.\n",
    "\n",
    "Encoding of *p* in binary (i.e. *p* as a string): (*p*) .\n",
    "\n",
    "String: *x*.\n",
    "\n",
    "*H* = {<*p*,*x*>} | program p halts on input x} \n",
    "\n",
    "*A*: a Turing Machine that accepts all members of *H* and rejects all non-members of *H*, i.e.  *A* decides *H*.\n",
    "\n",
    "*B*: another Turing machine, takes an encoding <*p*> of a program *p* and runs *A* on <*p,* <*p*>>, accepts if and only if *A* rejects, loops infinitely otherwise.\n",
    "\n",
    "What happens when *B* receives <*B*> as input?\n",
    "\n",
    "Then *A* gets called with <*B*, <*B*>> as input.\n",
    "\n",
    "Now, *A* must either accept or reject this input (it's a decider).\n",
    "\n",
    "If *A* accepts: *B* on input <*B*> halts. However, by *B*'s own definition, if *A* accepts (which is this case), then *B* infinitely loops with <*B*> as input. This can't happen - it's a contradiction.\n",
    "\n",
    "If *A* rejects: *B* on input <*B*> does not halt. So, *A* should reject <*B*, <*B*>>, so then *B* does halt (by accepting) on input <*B*>. So, again there's a contradiction.\n",
    "\n",
    "So, the Turing machine *A* cannot exist.\n",
    "***"
   ]
  },
  {
   "cell_type": "markdown",
   "id": "d6742314-7617-45b3-83f6-93bc54189699",
   "metadata": {},
   "source": [
    "End\n",
    "***"
   ]
  },
  {
   "cell_type": "markdown",
   "id": "c241f690-a95e-470c-93e7-1b3c6c3a1193",
   "metadata": {},
   "source": [
    "$\\{\\langle p , x \\rangle | \\textrm{program } p \\textrm{ halts on input } x\\}$"
   ]
  },
  {
   "cell_type": "code",
   "execution_count": null,
   "id": "20266e9f-ccce-4d05-a9ad-cc73fb1120f7",
   "metadata": {},
   "outputs": [],
   "source": []
  },
  {
   "cell_type": "markdown",
   "id": "6aa7e755-f57f-4588-9ea9-bcdef647f1e6",
   "metadata": {},
   "source": []
  }
 ],
 "metadata": {
  "kernelspec": {
   "display_name": "Python 3 (ipykernel)",
   "language": "python",
   "name": "python3"
  },
  "language_info": {
   "codemirror_mode": {
    "name": "ipython",
    "version": 3
   },
   "file_extension": ".py",
   "mimetype": "text/x-python",
   "name": "python",
   "nbconvert_exporter": "python",
   "pygments_lexer": "ipython3",
   "version": "3.8.12"
  }
 },
 "nbformat": 4,
 "nbformat_minor": 5
}
