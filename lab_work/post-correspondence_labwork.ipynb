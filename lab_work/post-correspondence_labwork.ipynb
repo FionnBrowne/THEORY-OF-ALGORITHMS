{
 "cells": [
  {
   "cell_type": "markdown",
   "id": "080630ae-734a-4935-b8d7-a4c0bc9c40f1",
   "metadata": {
    "jp-MarkdownHeadingCollapsed": true,
    "tags": []
   },
   "source": [
    "# Post Corresponence Problem\n",
    "https://en.wikipedia.org/wiki/Post_correspondence_problem\n",
    "***"
   ]
  },
  {
   "cell_type": "markdown",
   "id": "239ed6b2-2968-4b60-a6e0-88acc13d5748",
   "metadata": {
    "jp-MarkdownHeadingCollapsed": true,
    "tags": []
   },
   "source": [
    "# What is post correspondence problem?\n",
    "<br>\n",
    "The Post Correspondence Problem (PCP), was introduced by Emil Post in 1946 and it is an undecidable decision problem.\n",
    "\n",
    "# Undecidable\n",
    "It is undecidable as there is no particular algothrim that determines whether any Post Correspondence System has an solution or not.\n",
    "\n",
    "# Decision Problem\n",
    "\n",
    "\n",
    "The PCP is used to determine wheather a collection Dominos(tiles) has a match. Escentially if we had two lists that contained N words, the aim is to find out a concatenation of these words in some sequence such that both lists yield the same result.\n",
    "<br>\n",
    "The PCP consists of two lists of strings that are of equal length over the input. The two lists are  $A = w1, w2, w3, .... , wn$ and$ B = x1, x2, x3, .... xn$ then there exists a non empty set of integers $i1, i2, i3, .. ,$ in such that $w1, w2, w3, .... wn = x1, x2, x3, .... xn$"
   ]
  },
  {
   "cell_type": "markdown",
   "id": "7d56003d-c9da-4097-8204-50ffb16e2901",
   "metadata": {},
   "source": [
    "For example a correspondence system as that has a solution $A = (b, bab^3, ba) and B = (b^3, ba, a).$ The input set is ∑ = {0, 1}. The solution would be 2, 1, 1, 3. That means w2w1w1w3 = x2x1x1x3\n"
   ]
  },
  {
   "cell_type": "markdown",
   "id": "ed6eb5e7-8d22-4dcb-b574-f88e6444bf72",
   "metadata": {},
   "source": [
    "| w2 | w1 | w1 | w3 |\n",
    "| --- | --- | --- | --- |\n",
    "| ba$b^3$ | b | b | ba |\n",
    "|-----|-----|-----|-----|\n",
    "| x2 | x1 | x1 | x3 |\n",
    "|-----|-----|-----|-----|\n",
    "| ba | $b^3$ | $b^3$ | w3 |"
   ]
  },
  {
   "cell_type": "markdown",
   "id": "c50f9f7f-8803-4037-b8b7-22b2a104367f",
   "metadata": {},
   "source": [
    "An Correspondence System that has no solution would be $A = (100, 0, 1)$ and $B = (1, 100, 00).$"
   ]
  },
  {
   "cell_type": "markdown",
   "id": "127c6331-b03c-4187-b023-23e18844ae85",
   "metadata": {},
   "source": [
    "| A1 | A2 | A3 |\n",
    "| --- | --- | --- |\n",
    "| 100 | 0 | 1 |\n",
    "| --- | --- | --- |\n",
    "| B1 | B2 | B3 |\n",
    "| --- | --- | --- |\n",
    "| 1 | 100 | 00 |"
   ]
  },
  {
   "cell_type": "markdown",
   "id": "9e1d7664-5832-4111-83e7-d461397da808",
   "metadata": {
    "tags": []
   },
   "source": [
    "### Step-1:\n",
    "On the start our only option is tile 1 as both string start with 1, this gives us 100 for the numerator and 1 for the denominator.\n",
    "<br>\n",
    "### Step-2:\n",
    "Next we have an additional 00 in the numerator, to balance this out we must add tile 3 to the sequence, this gives us 100 1 for the numerator and 1 00 for the denominator.\n",
    "<br>\n",
    "### Step-3:\n",
    "We now have an extra 1 in the numerator, to even this out we can either add tile 1 or tile 2 if we do 1 first we would get, 100 1 100 for the numerator and 1 00 1 for the denominator. If we took tile 2 we would get 100 1 0 for the numerator and 1 00 100 for the denominator.\n",
    "<br>\n",
    "### Step-4:\n",
    "With tile 1 we have an additional 100 with the numerator, to balance this out we can add the first tile, this gives us 100 1 100 100 for the numerator and 1 00 1 1 1 for the denominator. In this case the sixth digit in the numerator is different to the denominator\n",
    "<br>\n",
    "With tile 2 we have an additional 0 with the denominator, to balance this out we can add the second tile, this gives us 100 1 0 0 for the numerator and 1 00 100 100 for the denominator. \n",
    "<br>\n",
    "### Step-4:\n",
    "With this we have an additional 100 with the denominator, to balance this out we can add the first tile, this gives us 100 1 0 0 100 for the numerator and 1 00 100 100 1 for the denominator. This will keep on but the two strings will not match\n",
    "<br>\n",
    "We could try unlimited combinations like one above but none of combination will lead us to solution, thus this problem does not have solution."
   ]
  },
  {
   "cell_type": "markdown",
   "id": "4da65b2a-11a4-42a8-99e1-416d102fcf4d",
   "metadata": {},
   "source": [
    "Here is an example using Python"
   ]
  },
  {
   "cell_type": "markdown",
   "id": "89c65e12-e07e-40c5-b014-be073acfc1be",
   "metadata": {},
   "source": [
    "| A1 | A2 | A3 |\n",
    "| --- | --- | --- |\n",
    "| 1 | 10111 | 10 |\n",
    "| --- | --- | --- |\n",
    "| B1 | B2 | B3 |\n",
    "| --- | --- | --- |\n",
    "| 111 | 10 | 0 |"
   ]
  },
  {
   "cell_type": "code",
   "execution_count": 117,
   "id": "dabe37c2-7f05-4b7e-8b9f-c6b438eb89a0",
   "metadata": {},
   "outputs": [],
   "source": [
    "a = 'a'\n",
    "b = 'b'\n",
    "# First list.\n",
    "L1 = ((b), (b,a,b,b,b), (b,a))\n",
    "# Second list.\n",
    "L2 = ((b,b,b), (b,a), (a))\n",
    "# A proposed solution.\n",
    "S = (1, 0, 0, 2)"
   ]
  },
  {
   "cell_type": "code",
   "execution_count": 118,
   "id": "2b14dc0d-f55d-4a01-b762-a938fb2c5f92",
   "metadata": {},
   "outputs": [
    {
     "data": {
      "text/plain": [
       "('b', ('b', 'a', 'b', 'b', 'b'), ('b', 'a'))"
      ]
     },
     "execution_count": 118,
     "metadata": {},
     "output_type": "execute_result"
    }
   ],
   "source": [
    "L1"
   ]
  },
  {
   "cell_type": "code",
   "execution_count": 119,
   "id": "c22eca2f-ddcb-4135-bac0-4446405e4efc",
   "metadata": {},
   "outputs": [
    {
     "data": {
      "text/plain": [
       "(('b', 'b', 'b'), ('b', 'a'), 'a')"
      ]
     },
     "execution_count": 119,
     "metadata": {},
     "output_type": "execute_result"
    }
   ],
   "source": [
    "L2"
   ]
  },
  {
   "cell_type": "code",
   "execution_count": 120,
   "id": "2a65980e-9d21-44a8-8738-0a975aa179aa",
   "metadata": {},
   "outputs": [],
   "source": [
    "# Apply the proposed solution to a tuple.\n",
    "def apply(S, L):\n",
    "    S_on_L = [''.join(L[i]) for i in S]\n",
    "    return ''.join(S_on_L)"
   ]
  },
  {
   "cell_type": "code",
   "execution_count": 121,
   "id": "9a9a03d9-1501-4250-917f-83fa2e3d6653",
   "metadata": {},
   "outputs": [
    {
     "data": {
      "text/plain": [
       "'babbbbbba'"
      ]
     },
     "execution_count": 121,
     "metadata": {},
     "output_type": "execute_result"
    }
   ],
   "source": [
    "# Apply S to L1.\n",
    "apply(S, L1)"
   ]
  },
  {
   "cell_type": "code",
   "execution_count": 122,
   "id": "551e60b1-b61b-4e97-9c16-a0cb8e49fce1",
   "metadata": {},
   "outputs": [
    {
     "data": {
      "text/plain": [
       "'babbbbbba'"
      ]
     },
     "execution_count": 122,
     "metadata": {},
     "output_type": "execute_result"
    }
   ],
   "source": [
    "# Apply S to L2.\n",
    "apply(S, L2)"
   ]
  },
  {
   "cell_type": "code",
   "execution_count": 123,
   "id": "79b4cde3-d86e-4b1a-a8aa-93899e14241c",
   "metadata": {},
   "outputs": [
    {
     "data": {
      "text/plain": [
       "True"
      ]
     },
     "execution_count": 123,
     "metadata": {},
     "output_type": "execute_result"
    }
   ],
   "source": [
    "# Get Python to check if the proposed solution is a solution.\n",
    "apply(S, L1) == apply(S, L2)"
   ]
  },
  {
   "cell_type": "code",
   "execution_count": 124,
   "id": "f2b4e2aa-1102-48cc-839e-a1d44c337730",
   "metadata": {},
   "outputs": [
    {
     "data": {
      "text/plain": [
       "'babbbbbbababbbbbba'"
      ]
     },
     "execution_count": 124,
     "metadata": {},
     "output_type": "execute_result"
    }
   ],
   "source": [
    "# Another solution - there are infinitely many.\n",
    "apply((1, 0, 0, 2, 1, 0, 0, 2), L1)"
   ]
  },
  {
   "cell_type": "code",
   "execution_count": 125,
   "id": "8731547c-85f2-4448-b5f9-dafd74b67b0b",
   "metadata": {},
   "outputs": [
    {
     "data": {
      "text/plain": [
       "'babbbbbbababbbbbba'"
      ]
     },
     "execution_count": 125,
     "metadata": {},
     "output_type": "execute_result"
    }
   ],
   "source": [
    "apply((1, 0, 0, 2, 1, 0, 0, 2), L2)"
   ]
  },
  {
   "cell_type": "code",
   "execution_count": 126,
   "id": "6fe4dc90-4977-4e9b-b47d-f41117e9f145",
   "metadata": {},
   "outputs": [
    {
     "data": {
      "text/plain": [
       "True"
      ]
     },
     "execution_count": 126,
     "metadata": {},
     "output_type": "execute_result"
    }
   ],
   "source": [
    "apply(S, L1) == apply(S, L2)"
   ]
  },
  {
   "cell_type": "markdown",
   "id": "12f85138-2872-42c9-bd7a-bd757a7fb933",
   "metadata": {
    "tags": []
   },
   "source": [
    "# Sets\n",
    "https://docs.python.org/3/tutorial/datastructures.html#sets\n",
    "***"
   ]
  },
  {
   "cell_type": "code",
   "execution_count": 6,
   "id": "d8e24b29-ac24-4a85-ad78-c73ae6ef87b2",
   "metadata": {},
   "outputs": [],
   "source": [
    "# Alphabet for strings: a set.\n",
    "A = {'a', 'b'}"
   ]
  },
  {
   "cell_type": "code",
   "execution_count": 7,
   "id": "4fe3dff0-5c89-4c84-9a4b-9ac6324e224d",
   "metadata": {},
   "outputs": [
    {
     "data": {
      "text/plain": [
       "set"
      ]
     },
     "execution_count": 7,
     "metadata": {},
     "output_type": "execute_result"
    }
   ],
   "source": [
    "# Curly braces are often used for sets.\n",
    "type(A)"
   ]
  },
  {
   "cell_type": "code",
   "execution_count": 8,
   "id": "9e8f2b30-ea7c-44a5-b71a-035179699f03",
   "metadata": {},
   "outputs": [
    {
     "data": {
      "text/plain": [
       "True"
      ]
     },
     "execution_count": 8,
     "metadata": {},
     "output_type": "execute_result"
    }
   ],
   "source": [
    "# Sets are unordered.\n",
    "{'a', 'b'} == {'b', 'a'}"
   ]
  },
  {
   "cell_type": "code",
   "execution_count": 9,
   "id": "e54d071b-4d8c-4600-984b-0cdfcaf49d89",
   "metadata": {},
   "outputs": [
    {
     "data": {
      "text/plain": [
       "False"
      ]
     },
     "execution_count": 9,
     "metadata": {},
     "output_type": "execute_result"
    }
   ],
   "source": [
    "# FYI, order does matter for lists.\n",
    "['a', 'b'] == ['b', 'a']"
   ]
  },
  {
   "cell_type": "code",
   "execution_count": 10,
   "id": "6b7ee8e7-9123-4229-b33d-2dfd31a5aa19",
   "metadata": {},
   "outputs": [
    {
     "data": {
      "text/plain": [
       "{1, 2, 3}"
      ]
     },
     "execution_count": 10,
     "metadata": {},
     "output_type": "execute_result"
    }
   ],
   "source": [
    "# Using the set() function to create a set from a list.\n",
    "set([1,2,3])"
   ]
  },
  {
   "cell_type": "code",
   "execution_count": 11,
   "id": "b2700f8d-a5dc-411f-9379-6f2fcf1b7848",
   "metadata": {},
   "outputs": [
    {
     "data": {
      "text/plain": [
       "{1, 2, 3}"
      ]
     },
     "execution_count": 11,
     "metadata": {},
     "output_type": "execute_result"
    }
   ],
   "source": [
    "# Sets don't keep count.\n",
    "set([3, 2, 2, 1])"
   ]
  },
  {
   "cell_type": "code",
   "execution_count": 12,
   "id": "a8b40121-5def-431d-8542-9656f66b5d95",
   "metadata": {},
   "outputs": [
    {
     "data": {
      "text/plain": [
       "True"
      ]
     },
     "execution_count": 12,
     "metadata": {},
     "output_type": "execute_result"
    }
   ],
   "source": [
    "# Test whether or not an item is in the set.\n",
    "1 in {1, 2, 3}"
   ]
  },
  {
   "cell_type": "code",
   "execution_count": 13,
   "id": "105cc72b-0253-444e-80a3-d3460d14faf2",
   "metadata": {},
   "outputs": [
    {
     "data": {
      "text/plain": [
       "False"
      ]
     },
     "execution_count": 13,
     "metadata": {},
     "output_type": "execute_result"
    }
   ],
   "source": [
    "'a' in {1, 2, 3}"
   ]
  },
  {
   "cell_type": "markdown",
   "id": "4c25b41a-2286-4266-8c4d-f4d081a641a0",
   "metadata": {
    "tags": []
   },
   "source": [
    "# Tuples\n",
    "https://docs.python.org/3/tutorial/datastructures.html#tuples-and-sequences\n",
    "***"
   ]
  },
  {
   "cell_type": "code",
   "execution_count": 14,
   "id": "06c9adbd-aa44-463b-8afa-d98a08a69512",
   "metadata": {},
   "outputs": [
    {
     "data": {
      "text/plain": [
       "[1, 2, 3]"
      ]
     },
     "execution_count": 14,
     "metadata": {},
     "output_type": "execute_result"
    }
   ],
   "source": [
    "# List.\n",
    "[1,2,3]"
   ]
  },
  {
   "cell_type": "code",
   "execution_count": 15,
   "id": "6e948a58-39ae-47e6-bcca-3833a3e5e2fd",
   "metadata": {},
   "outputs": [
    {
     "data": {
      "text/plain": [
       "list"
      ]
     },
     "execution_count": 15,
     "metadata": {},
     "output_type": "execute_result"
    }
   ],
   "source": [
    "# List.\n",
    "type([1,2,3])"
   ]
  },
  {
   "cell_type": "code",
   "execution_count": 16,
   "id": "bf304904-b280-4030-91ee-88c9fcaca595",
   "metadata": {},
   "outputs": [
    {
     "data": {
      "text/plain": [
       "(1, 2, 3)"
      ]
     },
     "execution_count": 16,
     "metadata": {},
     "output_type": "execute_result"
    }
   ],
   "source": [
    "# Tuple.\n",
    "(1, 2, 3)"
   ]
  },
  {
   "cell_type": "code",
   "execution_count": 17,
   "id": "8133f05b-ae87-4e7f-afcb-45bbfc439b24",
   "metadata": {},
   "outputs": [
    {
     "data": {
      "text/plain": [
       "tuple"
      ]
     },
     "execution_count": 17,
     "metadata": {},
     "output_type": "execute_result"
    }
   ],
   "source": [
    "# Tuple.\n",
    "type((1, 2, 3))"
   ]
  },
  {
   "cell_type": "code",
   "execution_count": 18,
   "id": "96403bab-8a47-4420-a7a6-9df1064f5c30",
   "metadata": {},
   "outputs": [],
   "source": [
    "# Create a list.\n",
    "l = [1,2,3]"
   ]
  },
  {
   "cell_type": "code",
   "execution_count": 19,
   "id": "59cca6ca-69d3-43ee-8048-affa81855918",
   "metadata": {},
   "outputs": [],
   "source": [
    "# Reassign an element.\n",
    "l[1] = 4"
   ]
  },
  {
   "cell_type": "code",
   "execution_count": 20,
   "id": "b8828373-fd92-4a3e-b6ae-d16768d8a42f",
   "metadata": {},
   "outputs": [
    {
     "data": {
      "text/plain": [
       "[1, 4, 3]"
      ]
     },
     "execution_count": 20,
     "metadata": {},
     "output_type": "execute_result"
    }
   ],
   "source": [
    "# The element is reassigned.\n",
    "l"
   ]
  },
  {
   "cell_type": "code",
   "execution_count": 21,
   "id": "0fdbb92c-783f-46ab-97a1-dc59783c928b",
   "metadata": {},
   "outputs": [],
   "source": [
    "# Create a tuple.\n",
    "t = (1, 2, 3)"
   ]
  },
  {
   "cell_type": "code",
   "execution_count": 22,
   "id": "6a69bf04-854b-40ee-854f-4060257d0544",
   "metadata": {},
   "outputs": [],
   "source": [
    "# Try to reassign an element.\n",
    "# t[1] = 4\n",
    "# Won't work."
   ]
  },
  {
   "cell_type": "code",
   "execution_count": 23,
   "id": "70a1b93a-7142-4ddb-adfe-7d79c16e31dd",
   "metadata": {},
   "outputs": [],
   "source": [
    "# Can't hash a list.\n",
    "# hash(l)\n",
    "# Gives an error."
   ]
  },
  {
   "cell_type": "code",
   "execution_count": 24,
   "id": "d90c6b83-8829-4439-8147-9092c722774d",
   "metadata": {},
   "outputs": [
    {
     "data": {
      "text/plain": [
       "529344067295497451"
      ]
     },
     "execution_count": 24,
     "metadata": {},
     "output_type": "execute_result"
    }
   ],
   "source": [
    "# Can hash a tuple.\n",
    "hash(t)"
   ]
  },
  {
   "cell_type": "code",
   "execution_count": 25,
   "id": "a35de7db-762a-4823-9684-16f4ae3f9354",
   "metadata": {},
   "outputs": [
    {
     "data": {
      "text/plain": [
       "'0x7589b9fe71bcceb'"
      ]
     },
     "execution_count": 25,
     "metadata": {},
     "output_type": "execute_result"
    }
   ],
   "source": [
    "# Usual output from a hash function is in hex.\n",
    "hex(hash(t))"
   ]
  },
  {
   "cell_type": "code",
   "execution_count": 26,
   "id": "0b1bc329-c851-4b66-a7b0-1608ee5e4265",
   "metadata": {},
   "outputs": [
    {
     "data": {
      "text/plain": [
       "3"
      ]
     },
     "execution_count": 26,
     "metadata": {},
     "output_type": "execute_result"
    }
   ],
   "source": [
    "# You can use tuples as dictionary keys.\n",
    "D = {(1,2,3): 3, (1,2): 2}\n",
    "D[(1,2,3)]"
   ]
  },
  {
   "cell_type": "code",
   "execution_count": 27,
   "id": "605cd08b-8e74-4fa2-a0d8-11545353d862",
   "metadata": {},
   "outputs": [],
   "source": [
    "# You can't use lists as dictionary keys.\n",
    "# = {[1,2,3]: 3, [1,2]: 2}"
   ]
  },
  {
   "cell_type": "code",
   "execution_count": 28,
   "id": "acf89aec-87f2-470e-b442-c9353aab865a",
   "metadata": {},
   "outputs": [],
   "source": [
    "# Tuples can be used for assignment - you don't have to use round brackets.\n",
    "a, b = 1, 2"
   ]
  },
  {
   "cell_type": "code",
   "execution_count": 29,
   "id": "550d99dc-f206-46e2-9865-8ce928bb1ad0",
   "metadata": {},
   "outputs": [
    {
     "data": {
      "text/plain": [
       "1"
      ]
     },
     "execution_count": 29,
     "metadata": {},
     "output_type": "execute_result"
    }
   ],
   "source": [
    "a"
   ]
  },
  {
   "cell_type": "code",
   "execution_count": 30,
   "id": "c9611e51-36e0-4bbd-aafb-c29d9134b463",
   "metadata": {},
   "outputs": [
    {
     "data": {
      "text/plain": [
       "2"
      ]
     },
     "execution_count": 30,
     "metadata": {},
     "output_type": "execute_result"
    }
   ],
   "source": [
    "b"
   ]
  },
  {
   "cell_type": "code",
   "execution_count": 31,
   "id": "527e3c03-2ac8-4fd8-9ee7-614732c75ed6",
   "metadata": {},
   "outputs": [
    {
     "data": {
      "text/plain": [
       "{1, 2, 3}"
      ]
     },
     "execution_count": 31,
     "metadata": {},
     "output_type": "execute_result"
    }
   ],
   "source": [
    "# Some contexts require the round brackets.\n",
    "set((1, 2, 3))"
   ]
  },
  {
   "cell_type": "code",
   "execution_count": 32,
   "id": "b6bf9ce5-0b5d-4742-8533-c56d1dedbeeb",
   "metadata": {},
   "outputs": [
    {
     "data": {
      "text/plain": [
       "{1, 2, 3}"
      ]
     },
     "execution_count": 32,
     "metadata": {},
     "output_type": "execute_result"
    }
   ],
   "source": [
    "# Some contexts require the round brackets.\n",
    "set((1, 2, 3))"
   ]
  },
  {
   "cell_type": "markdown",
   "id": "0f812572-4f2b-4571-92d2-ea0d133d3a94",
   "metadata": {
    "tags": []
   },
   "source": [
    "# The Problem\n",
    "***"
   ]
  },
  {
   "cell_type": "code",
   "execution_count": 33,
   "id": "555e6a67-1dbb-40ef-baab-c953b1376204",
   "metadata": {},
   "outputs": [],
   "source": [
    "a = 'a'\n",
    "b = 'b'"
   ]
  },
  {
   "cell_type": "code",
   "execution_count": 34,
   "id": "37e8a26f-adf0-41f3-aba8-d6b9b542b3c1",
   "metadata": {},
   "outputs": [],
   "source": [
    "# First list.\n",
    "L1 = ((a,), (a, b), (b, b, a))"
   ]
  },
  {
   "cell_type": "code",
   "execution_count": 35,
   "id": "e8805beb-db7e-4c2d-923c-380db186f69b",
   "metadata": {},
   "outputs": [
    {
     "data": {
      "text/plain": [
       "(('a',), ('a', 'b'), ('b', 'b', 'a'))"
      ]
     },
     "execution_count": 35,
     "metadata": {},
     "output_type": "execute_result"
    }
   ],
   "source": [
    "L1"
   ]
  },
  {
   "cell_type": "code",
   "execution_count": 36,
   "id": "9e3978a3-5d75-4493-92a7-c29284646dfc",
   "metadata": {},
   "outputs": [],
   "source": [
    "# Second list.\n",
    "L2 = ((b, a, a), (a, a), (b, b))"
   ]
  },
  {
   "cell_type": "code",
   "execution_count": 37,
   "id": "e29b2a58-a442-46c5-a36a-fa87febea8fe",
   "metadata": {},
   "outputs": [
    {
     "data": {
      "text/plain": [
       "(('b', 'a', 'a'), ('a', 'a'), ('b', 'b'))"
      ]
     },
     "execution_count": 37,
     "metadata": {},
     "output_type": "execute_result"
    }
   ],
   "source": [
    "L2"
   ]
  },
  {
   "cell_type": "code",
   "execution_count": 38,
   "id": "36534769-c907-4bc1-b9af-525782c5137f",
   "metadata": {},
   "outputs": [],
   "source": [
    "# A proposed solution.\n",
    "S = (2, 1, 2, 0)"
   ]
  },
  {
   "cell_type": "code",
   "execution_count": 39,
   "id": "4d362e81-f63e-4493-a24a-b25f631b9036",
   "metadata": {},
   "outputs": [],
   "source": [
    "# Apply the proposed solution to a tuple.\n",
    "def apply(S, L):\n",
    "    S_on_L = [''.join(L[i]) for i in S]\n",
    "    return ''.join(S_on_L)"
   ]
  },
  {
   "cell_type": "code",
   "execution_count": 40,
   "id": "b5f0da2f-d949-42f2-9a33-8a2a21acc3da",
   "metadata": {},
   "outputs": [
    {
     "data": {
      "text/plain": [
       "'bbaabbbaa'"
      ]
     },
     "execution_count": 40,
     "metadata": {},
     "output_type": "execute_result"
    }
   ],
   "source": [
    "# Apply S to L1.\n",
    "apply(S, L1)"
   ]
  },
  {
   "cell_type": "code",
   "execution_count": 41,
   "id": "998749fa-c8b8-47c4-af51-3b0cbb9f462d",
   "metadata": {},
   "outputs": [
    {
     "data": {
      "text/plain": [
       "'bbaabbbaa'"
      ]
     },
     "execution_count": 41,
     "metadata": {},
     "output_type": "execute_result"
    }
   ],
   "source": [
    "# Apply S to L2.\n",
    "apply(S, L2)"
   ]
  },
  {
   "cell_type": "code",
   "execution_count": 42,
   "id": "580aae27-d3a4-4d55-801a-a9c66b8bb413",
   "metadata": {},
   "outputs": [
    {
     "data": {
      "text/plain": [
       "True"
      ]
     },
     "execution_count": 42,
     "metadata": {},
     "output_type": "execute_result"
    }
   ],
   "source": [
    "# Get Python to check if the proposed solution is a solution.\n",
    "apply(S, L1) == apply(S, L2)"
   ]
  },
  {
   "cell_type": "code",
   "execution_count": 43,
   "id": "a06c9228-1439-4774-a34b-dcd9a02e2c6f",
   "metadata": {},
   "outputs": [
    {
     "data": {
      "text/plain": [
       "'bbaabbbaabbaabbbaa'"
      ]
     },
     "execution_count": 43,
     "metadata": {},
     "output_type": "execute_result"
    }
   ],
   "source": [
    "# Another solution - there are infinitely many.\n",
    "apply((2, 1, 2, 0, 2, 1, 2, 0), L1)"
   ]
  },
  {
   "cell_type": "code",
   "execution_count": 44,
   "id": "f8290362-dd9a-4955-b0e9-0b79f3c1bb3f",
   "metadata": {},
   "outputs": [
    {
     "data": {
      "text/plain": [
       "'bbaabbbaabbaabbbaa'"
      ]
     },
     "execution_count": 44,
     "metadata": {},
     "output_type": "execute_result"
    }
   ],
   "source": [
    "apply((2, 1, 2, 0, 2, 1, 2, 0), L2)"
   ]
  },
  {
   "cell_type": "code",
   "execution_count": null,
   "id": "d2f82d7c-206d-4e97-a8f1-5ae2b61f6a5f",
   "metadata": {},
   "outputs": [],
   "source": []
  },
  {
   "cell_type": "markdown",
   "id": "6b788f50-aa2b-40ff-b260-69a14063f01e",
   "metadata": {
    "tags": []
   },
   "source": [
    "# No correspondence\n",
    "***"
   ]
  },
  {
   "cell_type": "code",
   "execution_count": 45,
   "id": "1264dd2c-68ca-4a80-8dd2-0f01b8c3d6a3",
   "metadata": {},
   "outputs": [],
   "source": [
    "# List 1.\n",
    "L1 = ((a, b), (b, b, a))"
   ]
  },
  {
   "cell_type": "code",
   "execution_count": 46,
   "id": "fba23149-6237-412f-8768-13a41db1b28d",
   "metadata": {},
   "outputs": [],
   "source": [
    "# List 2.\n",
    "L2 = ((a, a), (b, b))"
   ]
  },
  {
   "cell_type": "code",
   "execution_count": 47,
   "id": "c9f56ba3-ee55-4738-b6e3-83decaba1576",
   "metadata": {},
   "outputs": [],
   "source": [
    "# S = ?"
   ]
  },
  {
   "cell_type": "code",
   "execution_count": 48,
   "id": "ab233d88-b8bb-4d35-86fe-b148312c768e",
   "metadata": {},
   "outputs": [],
   "source": [
    "# possibles = ((0,), (1,), (0,0), (0, 1), (1, 0), (1,1), (0,0,0), (0,0,1), (0,1,0), ...)"
   ]
  },
  {
   "cell_type": "markdown",
   "id": "e2366401-3055-4b91-a60d-64d2110bfa3f",
   "metadata": {},
   "source": [
    "$$ (L_1,L_2) \\rightarrow \\{True, Flase\\} \\qquad |L_1| = |L_2| $$"
   ]
  },
  {
   "cell_type": "markdown",
   "id": "98eb3369-4904-4645-b6b1-d469476eb88d",
   "metadata": {},
   "source": [
    "# Bounded PCP\n",
    "***"
   ]
  },
  {
   "cell_type": "markdown",
   "id": "31876cd4-868c-4cbd-82ab-c545ddb70d66",
   "metadata": {
    "tags": []
   },
   "source": []
  },
  {
   "cell_type": "markdown",
   "id": "18b92d39-380d-449e-85a8-7d7a75490c85",
   "metadata": {},
   "source": [
    "$$ |S| \\leqslant K    K \\in N$$"
   ]
  },
  {
   "cell_type": "code",
   "execution_count": 49,
   "id": "760c207a-23b2-4b9a-bcaa-15728dbb0452",
   "metadata": {},
   "outputs": [],
   "source": [
    "# Write a solver for the bounded version.\n",
    "def bpcp_solver(L1, L2, K):\n",
    "    if correspond(L1, L2, K):\n",
    "        return True\n",
    "    else:\n",
    "        return False\n",
    "    \n",
    "# Correspond needs to state whether a solution S of max length K exists.\n",
    "def correspond(L1, L2, K):\n",
    "    # Your algorithm here.\n",
    "    return True if solution else False"
   ]
  },
  {
   "cell_type": "code",
   "execution_count": 50,
   "id": "8d61ce6d-c0f4-4dd2-bbdd-5b44c44ab52b",
   "metadata": {},
   "outputs": [],
   "source": [
    "# Write a solver for the bounded version.\n",
    "def bpcp_solver(L1, L2, k):\n",
    "    \n",
    "    # The generators\n",
    "    gens = []\n",
    "    \n",
    "    #innitalise arrays\n",
    "    string1 = []\n",
    "    string2 = []\n",
    "    string1Con = []\n",
    "    string2Con = []\n",
    "    \n",
    "#     # Loop through all possible solutions.\n",
    "# for i in range(1, k + 1):\n",
    "#     # Create a generator for solutions of length i, append it to gens.\n",
    "#     gens.append(it.product(*([range(len(L1))] * i)))\n",
    "\n",
    "# it.chain just chains generators together.\n",
    "# for solution in chain(*gens):\n",
    "#   string1.append([.join(L1[i]) for i in solution])"
   ]
  },
  {
   "cell_type": "markdown",
   "id": "b60b202a-dd28-4693-bb33-34c14403dfe9",
   "metadata": {},
   "source": [
    "# Itertools\n",
    "https://realpython.com/python-itertools/\n",
    "***"
   ]
  },
  {
   "cell_type": "code",
   "execution_count": 51,
   "id": "7e79b856-0591-4f2f-9253-e53f48a2cd2f",
   "metadata": {},
   "outputs": [],
   "source": [
    "# A very useful module in the Python standard library.\n",
    "import itertools as it"
   ]
  },
  {
   "cell_type": "code",
   "execution_count": 52,
   "id": "e1ebdbf6-5ea1-4d5c-8d1f-69d6afb11de1",
   "metadata": {},
   "outputs": [
    {
     "data": {
      "text/plain": [
       "[('A', 'B', 'C'),\n",
       " ('A', 'C', 'B'),\n",
       " ('B', 'A', 'C'),\n",
       " ('B', 'C', 'A'),\n",
       " ('C', 'A', 'B'),\n",
       " ('C', 'B', 'A')]"
      ]
     },
     "execution_count": 52,
     "metadata": {},
     "output_type": "execute_result"
    }
   ],
   "source": [
    "# Permutations.\n",
    "list(it.permutations('ABC'))"
   ]
  },
  {
   "cell_type": "code",
   "execution_count": 53,
   "id": "2bfd0002-216a-4eed-910b-c02eb78474b4",
   "metadata": {},
   "outputs": [
    {
     "data": {
      "text/plain": [
       "[('A', 'B'), ('A', 'C'), ('B', 'C')]"
      ]
     },
     "execution_count": 53,
     "metadata": {},
     "output_type": "execute_result"
    }
   ],
   "source": [
    "list(it.combinations('ABC', 2))"
   ]
  },
  {
   "cell_type": "code",
   "execution_count": 54,
   "id": "bb768eb7-e342-42d9-acc4-ad174cffe788",
   "metadata": {},
   "outputs": [
    {
     "data": {
      "text/plain": [
       "[('A', 'A'),\n",
       " ('A', 'B'),\n",
       " ('A', 'C'),\n",
       " ('A', 'D'),\n",
       " ('B', 'A'),\n",
       " ('B', 'B'),\n",
       " ('B', 'C'),\n",
       " ('B', 'D'),\n",
       " ('C', 'A'),\n",
       " ('C', 'B'),\n",
       " ('C', 'C'),\n",
       " ('C', 'D'),\n",
       " ('D', 'A'),\n",
       " ('D', 'B'),\n",
       " ('D', 'C'),\n",
       " ('D', 'D')]"
      ]
     },
     "execution_count": 54,
     "metadata": {},
     "output_type": "execute_result"
    }
   ],
   "source": [
    "list(it.product('ABCD', 'ABCD'))"
   ]
  },
  {
   "cell_type": "code",
   "execution_count": 55,
   "id": "594ab56a-fc0a-4bd4-a9e1-1c22043dc044",
   "metadata": {},
   "outputs": [
    {
     "data": {
      "text/plain": [
       "[(0, 0, 0),\n",
       " (0, 0, 1),\n",
       " (0, 1, 0),\n",
       " (0, 1, 1),\n",
       " (1, 0, 0),\n",
       " (1, 0, 1),\n",
       " (1, 1, 0),\n",
       " (1, 1, 1)]"
      ]
     },
     "execution_count": 55,
     "metadata": {},
     "output_type": "execute_result"
    }
   ],
   "source": [
    "list(it.product(range(len(L1)), range(len(L1)), range(len(L1))))"
   ]
  },
  {
   "cell_type": "code",
   "execution_count": 57,
   "id": "de3e7316-beac-40f2-9283-bafb12b5e4ad",
   "metadata": {},
   "outputs": [
    {
     "name": "stdout",
     "output_type": "stream",
     "text": [
      "(0,)\n",
      "(1,)\n",
      "(0, 0)\n",
      "(0, 1)\n",
      "(1, 0)\n",
      "(1, 1)\n",
      "(0, 0, 0)\n",
      "(0, 0, 1)\n",
      "(0, 1, 0)\n",
      "(0, 1, 1)\n",
      "(1, 0, 0)\n",
      "(1, 0, 1)\n",
      "(1, 1, 0)\n",
      "(1, 1, 1)\n",
      "(0, 0, 0, 0)\n",
      "(0, 0, 0, 1)\n",
      "(0, 0, 1, 0)\n",
      "(0, 0, 1, 1)\n",
      "(0, 1, 0, 0)\n",
      "(0, 1, 0, 1)\n",
      "(0, 1, 1, 0)\n",
      "(0, 1, 1, 1)\n",
      "(1, 0, 0, 0)\n",
      "(1, 0, 0, 1)\n",
      "(1, 0, 1, 0)\n",
      "(1, 0, 1, 1)\n",
      "(1, 1, 0, 0)\n",
      "(1, 1, 0, 1)\n",
      "(1, 1, 1, 0)\n",
      "(1, 1, 1, 1)\n"
     ]
    }
   ],
   "source": [
    "# The bound for the bounded problem.\n",
    "K = 4\n",
    "\n",
    "# The generators.\n",
    "gens = []\n",
    "\n",
    "# Loop through all possible solutions.\n",
    "for i in range(1, K + 1):\n",
    "    # Create a generator for solutions of length i, append it to gens.\n",
    "    gens.append(it.product(*([range(len(L1))] * i)))\n",
    "\n",
    "# it.chain just chains generators together.\n",
    "for solution in it.chain(*gens):\n",
    "  print(solution)"
   ]
  },
  {
   "cell_type": "code",
   "execution_count": null,
   "id": "94732a64-eca5-4b29-a175-536164c77707",
   "metadata": {},
   "outputs": [
    {
     "name": "stdout",
     "output_type": "stream",
     "text": [
      "[1, 2, 3]\n"
     ]
    }
   ],
   "source": [
    "# Print a list of three elements.\n",
    "print([1,2,3])"
   ]
  },
  {
   "cell_type": "code",
   "execution_count": null,
   "id": "adc9a7a5-aa42-4c77-b48f-418aceed3d90",
   "metadata": {},
   "outputs": [
    {
     "name": "stdout",
     "output_type": "stream",
     "text": [
      "1 2 3\n"
     ]
    }
   ],
   "source": [
    "# Print the elements of the list - print gets three parameters/arguments.\n",
    "print(*[1,2,3])"
   ]
  },
  {
   "cell_type": "code",
   "execution_count": null,
   "id": "14c4cfb8-14a8-4d6d-b91d-e6bbe963a8d0",
   "metadata": {},
   "outputs": [],
   "source": []
  }
 ],
 "metadata": {
  "kernelspec": {
   "display_name": "Python 3 (ipykernel)",
   "language": "python",
   "name": "python3"
  },
  "language_info": {
   "codemirror_mode": {
    "name": "ipython",
    "version": 3
   },
   "file_extension": ".py",
   "mimetype": "text/x-python",
   "name": "python",
   "nbconvert_exporter": "python",
   "pygments_lexer": "ipython3",
   "version": "3.8.12"
  }
 },
 "nbformat": 4,
 "nbformat_minor": 5
}
