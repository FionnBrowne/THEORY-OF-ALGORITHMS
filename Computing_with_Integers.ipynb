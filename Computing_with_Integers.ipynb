{
 "cells": [
  {
   "cell_type": "markdown",
   "id": "c8650fc8-5f0f-4a0a-8124-7a96c21a9a3f",
   "metadata": {},
   "source": [
    "# compting with the integers\n",
    "***"
   ]
  },
  {
   "cell_type": "code",
   "execution_count": 1,
   "id": "58808d95-f1cb-4f7a-8dfe-4ed7eaadb0a4",
   "metadata": {},
   "outputs": [],
   "source": [
    "def double(i):\n",
    "    return 2 * i"
   ]
  },
  {
   "cell_type": "code",
   "execution_count": 2,
   "id": "15c3b0f7-17ea-4937-864c-85701be76933",
   "metadata": {},
   "outputs": [],
   "source": [
    "eg_list_of_inputs = [-9, -8, -7, -6, -5, -4, -3, -2, -1, 0, 1, 2, 3, 4, 5, 6, 7, 8, 9]"
   ]
  },
  {
   "cell_type": "code",
   "execution_count": 3,
   "id": "9b745aeb-c14f-472b-b6c5-be7ba54dd6af",
   "metadata": {},
   "outputs": [
    {
     "data": {
      "text/plain": [
       "[-18, -16, -14, -12, -10, -8, -6, -4, -2, 0, 2, 4, 6, 8, 10, 12, 14, 16, 18]"
      ]
     },
     "execution_count": 3,
     "metadata": {},
     "output_type": "execute_result"
    }
   ],
   "source": [
    "eg_list_of_outputs = list(map(double, eg_list_of_inputs))\n",
    "eg_list_of_outputs"
   ]
  },
  {
   "cell_type": "code",
   "execution_count": 4,
   "id": "38316816-28d7-4fb6-8ea9-d0b270224241",
   "metadata": {},
   "outputs": [
    {
     "name": "stdout",
     "output_type": "stream",
     "text": [
      " -9 ->  -18\n",
      " -8 ->  -16\n",
      " -7 ->  -14\n",
      " -6 ->  -12\n",
      " -5 ->  -10\n",
      " -4 ->   -8\n",
      " -3 ->   -6\n",
      " -2 ->   -4\n",
      " -1 ->   -2\n",
      "  0 ->    0\n",
      "  1 ->    2\n",
      "  2 ->    4\n",
      "  3 ->    6\n",
      "  4 ->    8\n",
      "  5 ->   10\n",
      "  6 ->   12\n",
      "  7 ->   14\n",
      "  8 ->   16\n",
      "  9 ->   18\n"
     ]
    }
   ],
   "source": [
    "for i in range(-9, 10):\n",
    "    print(f'{i:3} ->  {double(i):3}')"
   ]
  },
  {
   "cell_type": "markdown",
   "id": "f18aa7cf-4cab-42a7-be77-9cea9a2b6aad",
   "metadata": {},
   "source": [
    "<br>\n",
    "\n",
    "$ f: \\mathbb{z} \\rightarrow 2 \\mathbb{z}$\n",
    "\n",
    "$ \\mathbb{z} = \\{ \\ldots, -2, -1, 0, 1, 2, \\ldots \\}$\n",
    "\n",
    "$ 2 \\mathbb{z} = \\{ \\ldots, -2, 0, 2, \\ldots \\}$\n",
    "\n",
    "$ 2 \\mathbb{z} zsubset \\mathbb{z}$\n",
    "\n",
    "$ | \\mathbb{z} | $ is $\\aleph_0$\n",
    "\n",
    "<br>"
   ]
  },
  {
   "cell_type": "markdown",
   "id": "11b79513-a0b1-434d-bd89-e3f9a303e110",
   "metadata": {},
   "source": [
    "# The Integers and the Reals\n",
    "***"
   ]
  },
  {
   "cell_type": "markdown",
   "id": "e774f509-d5fe-41ce-bafe-8c5af40e84ab",
   "metadata": {},
   "source": [
    "A"
   ]
  },
  {
   "cell_type": "code",
   "execution_count": 5,
   "id": "392b156a-0b08-41aa-9f40-cc8af5750d94",
   "metadata": {},
   "outputs": [
    {
     "name": "stdout",
     "output_type": "stream",
     "text": [
      " 0 -> 0.82452566872704247114...\n",
      " 1 -> 0.24772278510155187892...\n",
      " 2 -> 0.06443546206712524871...\n",
      " 3 -> 0.58959724994293760680...\n",
      " 4 -> 0.25747720555114961272...\n",
      " 5 -> 0.17806418547627311799...\n",
      " 6 -> 0.77568902296463804191...\n",
      " 7 -> 0.97241412942633720373...\n",
      " 8 -> 0.18556267016961969230...\n",
      " 9 -> 0.97703405309240576315...\n",
      "and so on\n"
     ]
    }
   ],
   "source": [
    "import random\n",
    "\n",
    "for n in range(10):\n",
    "    print(f'{n:2} -> {random.random():0.20f}...')\n",
    "print('and so on')"
   ]
  },
  {
   "cell_type": "code",
   "execution_count": 6,
   "id": "feb38538-1ad3-4462-bf18-f62201bc5727",
   "metadata": {},
   "outputs": [
    {
     "ename": "SyntaxError",
     "evalue": "invalid syntax (Temp/ipykernel_42144/2610050754.py, line 1)",
     "output_type": "error",
     "traceback": [
      "\u001b[1;36m  File \u001b[1;32m\"C:\\Users\\fionn\\AppData\\Local\\Temp/ipykernel_42144/2610050754.py\"\u001b[1;36m, line \u001b[1;32m1\u001b[0m\n\u001b[1;33m    0.0663927917...\u001b[0m\n\u001b[1;37m                ^\u001b[0m\n\u001b[1;31mSyntaxError\u001b[0m\u001b[1;31m:\u001b[0m invalid syntax\n"
     ]
    }
   ],
   "source": [
    "0.0663927917..."
   ]
  },
  {
   "cell_type": "code",
   "execution_count": null,
   "id": "ff9b5249-2baf-4154-8f97-5c9e8e524e48",
   "metadata": {},
   "outputs": [],
   "source": []
  }
 ],
 "metadata": {
  "kernelspec": {
   "display_name": "Python 3 (ipykernel)",
   "language": "python",
   "name": "python3"
  },
  "language_info": {
   "codemirror_mode": {
    "name": "ipython",
    "version": 3
   },
   "file_extension": ".py",
   "mimetype": "text/x-python",
   "name": "python",
   "nbconvert_exporter": "python",
   "pygments_lexer": "ipython3",
   "version": "3.8.12"
  }
 },
 "nbformat": 4,
 "nbformat_minor": 5
}
