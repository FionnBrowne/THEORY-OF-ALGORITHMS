{
 "cells": [
  {
   "cell_type": "markdown",
   "id": "f53636ed-cb2c-4164-9abd-13cc8c69c903",
   "metadata": {},
   "source": [
    "# Post Correspondence Problem\n",
    "https://en.wikipedia.org/wiki/Post_correspondence_problem\n",
    "***"
   ]
  },
  {
   "cell_type": "markdown",
   "id": "fe75b9a6-ee8f-458a-9ef6-009d33f17708",
   "metadata": {},
   "source": [
    "# What is post correspondence problem?\n",
    "<br>\n",
    "The Post Correspondence Problem (PCP), was introduced by Emil Post in 1946 and represents an undecidable decision problem. In contrast, a decison problem would be a problem that can be posed as Yes or No questions. The standard decision procedure is \" given two numbers x and y, does x evenly divide y?\" if the remainder is 0 then the awnser is yes, otherwise no.\n",
    "$$ K\\geq 1 ,and, 1 \\leqslant i^k \\leqslant N$$"
   ]
  },
  {
   "cell_type": "markdown",
   "id": "68259d59-a6e4-4421-a7ae-87fe46e21dd6",
   "metadata": {},
   "source": [
    "## Undecidable  problem\n",
    "The Post Correspondence Problem is undecidable as there is no particular algothrim that determines whether any Post Correspondence System has a solution or not. An example of an undecidable decision problem that we covered in the labs is the Halting Problem of determining whether the programme will finish running, or continue to run indefinitely."
   ]
  },
  {
   "cell_type": "markdown",
   "id": "e8a22f7c-b551-47b7-b073-ce798a6a1317",
   "metadata": {},
   "source": [
    "https://brilliant.org/wiki/halting-problem/\n",
    "***\n",
    "Program: *p*.\n",
    "\n",
    "Encoding of *p* in binary (i.e. *p* as a string): (*p*) .\n",
    "\n",
    "String: *x*.\n",
    "\n",
    "*H* = {<*p*,*x*>} | program p halts on input x} \n",
    "\n",
    "*A*: a Turing Machine that accepts all members of *H* and rejects all non-members of *H*, i.e.  *A* decides *H*.\n",
    "\n",
    "*B*: another Turing machine, takes an encoding <*p*> of a program *p* and runs *A* on <*p,* <*p*>>, accepts if and only if *A* rejects, loops infinitely otherwise.\n",
    "\n",
    "What happens when *B* receives <*B*> as input?\n",
    "\n",
    "Then *A* gets called with <*B*, <*B*>> as input.\n",
    "\n",
    "Now, *A* must either accept or reject this input (it's a decider).\n",
    "\n",
    "If *A* accepts: *B* on input <*B*> halts. However, by *B*'s own definition, if *A* accepts (which is this case), then *B* infinitely loops with <*B*> as input. This can't happen - it's a contradiction.\n",
    "\n",
    "If *A* rejects: *B* on input <*B*> does not halt. So, *A* should reject <*B*, <*B*>>, so then *B* does halt (by accepting) on input <*B*>. So, again there's a contradiction.\n",
    "\n",
    "So, the Turing machine *A* cannot exist.\n",
    "***\n"
   ]
  },
  {
   "cell_type": "markdown",
   "id": "7a380e7b-5a45-4f88-b03e-fdb2377b9a9c",
   "metadata": {},
   "source": [
    "The undecidability of the Post Correspondence Problem (PCP), is proven by an instance of PCP that simulates the computation of an arbitrary Turing machine on a specific input, where a match would only occur if the input was accepted by the Turing machine. As this decision is an undecidable problem, PCP is not decidable either. \n",
    "\n",
    "<br>\n",
    "\n",
    "The PCP is used to determine whether a collection Dominos(tiles) has a match. Escentially if we had two lists that contained N words, the aim is to find out a concatenation of these words in some sequence such that both lists yield the same result.\n",
    "<br>\n",
    "\n",
    "The PCP consists of two lists of strings that are of equal length over the input. The two lists are  $A = w1, w2, w3, .... , wn$ and$ B = x1, x2, x3, .... xn$ then there exists a non empty set of integers $i1, i2, i3, .. ,$ in such that $w1, w2, w3, .... wn = x1, x2, x3, .... xn$"
   ]
  },
  {
   "cell_type": "markdown",
   "id": "0b7e7650-8326-4d64-b808-1e1d1a3fc307",
   "metadata": {},
   "source": [
    "For example a correspondence system as that has a solution $A = (b, bab^3, ba) and B = (b^3, ba, a).$ The input set is ∑ = {0, 1}. The solution would be 2, 1, 1, 3. That means w2w1w1w3 = x2x1x1x3\n"
   ]
  },
  {
   "cell_type": "markdown",
   "id": "6af4b20e-4827-47a3-bcf4-907d7e25f9d8",
   "metadata": {},
   "source": [
    "| w2 | w1 | w1 | w3 |\n",
    "| --- | --- | --- | --- |\n",
    "| ba$b^3$ | b | b | ba |\n",
    "|-----|-----|-----|-----|\n",
    "| x2 | x1 | x1 | x3 |\n",
    "|-----|-----|-----|-----|\n",
    "| ba | $b^3$ | $b^3$ | w3 |"
   ]
  },
  {
   "cell_type": "markdown",
   "id": "3c088345-afff-4874-b8e7-43c4ecf0c795",
   "metadata": {},
   "source": [
    "An Correspondence System that has no solution would be $A = (100, 0, 1)$ and $B = (1, 100, 00).$"
   ]
  },
  {
   "cell_type": "markdown",
   "id": "83b7f90d-a60a-4c0d-9069-63277daa581d",
   "metadata": {},
   "source": [
    "| A1 | A2 | A3 |\n",
    "| --- | --- | --- |\n",
    "| 100 | 0 | 1 |\n",
    "| --- | --- | --- |\n",
    "| B1 | B2 | B3 |\n",
    "| 1 | 100 | 00 |"
   ]
  },
  {
   "cell_type": "markdown",
   "id": "59bc1b52-8969-4031-a311-d7aaf6687949",
   "metadata": {},
   "source": [
    "### Step-1:\n",
    "At the start our only option is tile 1 as both strings start with 1. This gives us 100 for the numerator and 1 for the denominator.\n",
    "<br>\n",
    "### Step-2:\n",
    "Next we have an additional 00 in the numerator, to balance this out we must add tile 3 to the sequence. This gives us 100-1 for the numerator and 1-00 for the denominator.\n",
    "<br>\n",
    "### Step-3:\n",
    "We now have an extra 1 in the numerator. To even this out we can either add tile 1 or tile 2. If we do 1 first we get, 100-1-100 for the numerator and 1-00-1 for the denominator. If we take tile 2 we get 100-1-0 for the numerator and 1-00-100 for the denominator.\n",
    "<br>\n",
    "### Step-4:\n",
    "With tile 1 we have an additional 100 with the numerator. To balance this out we can add the first tile, this gives us 100-1-100-100 for the numerator and 1-00-1-1-1 for the denominator. In this case the sixth digit in the numerator is different to the denominator.\n",
    "<br>\n",
    "With tile 2 we have an additional 0 with the denominator, to balance this out we can add the second tile, this gives us 100-1-0-0 for the numerator and 1-00-100-100 for the denominator. \n",
    "<br>\n",
    "### Step-4:\n",
    "With this we have an additional 100 with the denominator, to balance this out we can add the first tile, this gives us 100-1-0-0-100 for the numerator and 1-00-100-100-1 for the denominator. This will continue indefinitely but the two strings will never match.\n",
    "<br>\n",
    "We could try unlimited combinations like the one above but none of the combinations would lead us to a solution, hence this problem does not have a solution.\n",
    "\n",
    "Here is an example using Python:"
   ]
  },
  {
   "cell_type": "markdown",
   "id": "563c3211-a7b8-47b4-9216-b62129633f5e",
   "metadata": {},
   "source": [
    "\n",
    "| A1 | A2 | A3 |\n",
    "| --- | --- | --- |\n",
    "| 1 | 10111 | 10 |\n",
    "| --- | --- | --- |\n",
    "| B1 | B2 | B3 |\n",
    "| --- | --- | --- |\n",
    "| 111 | 10 | 0 |"
   ]
  },
  {
   "cell_type": "code",
   "execution_count": null,
   "id": "6e0092c2-125a-4f13-a410-4d8f422024fb",
   "metadata": {},
   "outputs": [],
   "source": [
    "# 1 being b and 0 being a\n",
    "a = 'a'\n",
    "b = 'b'\n",
    "# First list.\n",
    "L1 = ((b), (b,a,b,b,b), (b,a))\n",
    "# Second list.\n",
    "L2 = ((b,b,b), (b,a), (a))\n",
    "# A proposed solution.\n",
    "S = (1, 0, 0, 2)"
   ]
  },
  {
   "cell_type": "code",
   "execution_count": null,
   "id": "d744b659-4d8c-4b19-bcbb-4f4055ab3ee0",
   "metadata": {},
   "outputs": [],
   "source": [
    "L1"
   ]
  },
  {
   "cell_type": "code",
   "execution_count": null,
   "id": "20ad12a4-9707-4a11-ad45-bc70ee440228",
   "metadata": {},
   "outputs": [],
   "source": [
    "L2"
   ]
  },
  {
   "cell_type": "code",
   "execution_count": null,
   "id": "50a7a878-17c6-4ad5-8afe-096dab20dd20",
   "metadata": {},
   "outputs": [],
   "source": [
    "# Apply the proposed solution to a tuple.\n",
    "def apply(S, L):\n",
    "    S_on_L = [''.join(L[i]) for i in S]\n",
    "    return ''.join(S_on_L)"
   ]
  },
  {
   "cell_type": "code",
   "execution_count": null,
   "id": "2a4fcdfc-6b86-48bd-b6fc-a4389a89e57b",
   "metadata": {},
   "outputs": [],
   "source": [
    "# Apply S to L1.\n",
    "apply(S, L1)"
   ]
  },
  {
   "cell_type": "code",
   "execution_count": null,
   "id": "06a3c9c2-b4bd-4b69-b765-e8a80c2f4748",
   "metadata": {},
   "outputs": [],
   "source": [
    "# Apply S to L2.\n",
    "apply(S, L2)"
   ]
  },
  {
   "cell_type": "code",
   "execution_count": null,
   "id": "27bec790-da23-4af4-b9b9-bb896b7d3c16",
   "metadata": {},
   "outputs": [],
   "source": [
    "# Get Python to check if the proposed solution is a solution.\n",
    "apply(S, L1) == apply(S, L2)"
   ]
  },
  {
   "cell_type": "code",
   "execution_count": null,
   "id": "97c282b2-a29e-4f2f-8576-d03680c2c929",
   "metadata": {},
   "outputs": [],
   "source": [
    "# Another solution - there are infinitely many.\n",
    "apply((1, 0, 0, 2, 1, 0, 0, 2), L1)"
   ]
  },
  {
   "cell_type": "code",
   "execution_count": null,
   "id": "0b5154aa-e6c1-4814-8f82-31d74497b690",
   "metadata": {},
   "outputs": [],
   "source": [
    "apply((1, 0, 0, 2, 1, 0, 0, 2), L2)"
   ]
  },
  {
   "cell_type": "code",
   "execution_count": null,
   "id": "a25a2ed2-a687-4562-bf22-ce014b528024",
   "metadata": {},
   "outputs": [],
   "source": [
    "apply(S, L1) == apply(S, L2)"
   ]
  },
  {
   "cell_type": "markdown",
   "id": "23169fd1-31a3-40bc-ab74-54bfa6c20383",
   "metadata": {},
   "source": [
    "# Bounded PCP\n",
    "https://cs.stackexchange.com/questions/108550/how-post-correspondence-problem-is-undecidable\n",
    "***"
   ]
  },
  {
   "cell_type": "markdown",
   "id": "64ce10b2-f6c4-488a-8e99-77f610431763",
   "metadata": {},
   "source": [
    "## What is the Bounded Post Correspondence Problem?\n",
    "\n",
    "The bounded Post Correspondence Problem is one of the most important variants of PCP. It asks if we can find a match using no more than k tiles, including repeated tiles. A brute force search solves the problem in time O(2k), but this may be difficult to improve since the problem is NP-complete. https://en.formulasearchengine.com/wiki/Post_correspondence_problem\n",
    "\n",
    "If we had a list of M=(bba,ab,bba,a) and N=(bb,aa,bb,baa) this would look as follows in tile form:"
   ]
  },
  {
   "cell_type": "markdown",
   "id": "f2840c85-538f-4c64-8aca-d79519fd2c1b",
   "metadata": {},
   "source": [
    "| M | bba | ab | bba | a |\n",
    "| --- | --- | --- | --- | --- |\n",
    "|**N**| **bb** | **aa** | **bb** | **baa** |\n",
    "\n"
   ]
  },
  {
   "cell_type": "markdown",
   "id": "8d8d402c-b3d1-4f1d-8f41-4c1acdf5eda3",
   "metadata": {
    "tags": []
   },
   "source": [
    "The problem is equivalent to finding a sequence of tiles with repetition allowed so that the concatenation of the upper half and lower half gives the same string. K is the number of tiles that can be used. However, there are different interpretations of K, such as Yuval Filmus, where K is the maximum length of concatenated string, in which case the bounded PCP problem is Pspace complete. The majority of books refer to K as being the number of tiles that are allowed, for example, in Sipser's book. For this example, we are looking for the lists of two different strings to match, and if true, they correspond. Otherwise, it is false. https://users.monash.edu.au/~leo/research/papers/files/lcb96-01.pdf\n",
    "\n",
    "## How does Bounded PCP differ to the General problem of PCP?\n",
    "Unlike PCP, which is an undecidable problem, the Bounded PCP is solvable or decidable, i.e. when constructing a Turing machine, it will halt in a finite amount of time for every input and deliver an answer as state-1 (yes) or else state-2 (no). \"A decidable problem has an algorithm to determine the answer for a given input\".https://www.geeksforgeeks.org/undecidability-and-reducibility-in-toc/"
   ]
  },
  {
   "cell_type": "markdown",
   "id": "2af8bcc3-3581-48d2-9ebb-07b1388e0e07",
   "metadata": {
    "jp-MarkdownHeadingCollapsed": true,
    "tags": []
   },
   "source": [
    "### NP-complete\n",
    "It occurs when a problem has a solution that can be verified quickly, and a brute force search algothrim can find a solution by trying all possible solutions. NP-complete comes from \"non-deterministic polynomial-time complete\", and the non-deterministic refers to a way of mathematically formalising the idea of a brute force search algothrim. Polynomial-time refers to a period of time that is considered \"quick\" for the deterministic algothrim to check for a single solution or for non-deterministic to search all options."
   ]
  },
  {
   "cell_type": "markdown",
   "id": "8aeb1d3b-bb15-4a92-85d0-82685693e496",
   "metadata": {},
   "source": [
    "### Pspace-complete\n",
    "https://en.wikipedia.org/wiki/PSPACE-complete\n",
    "***\n",
    "Is where a decision problem can be solved using a quantity of memory that is polynomial in the input size, and every other problem that can be solved in Pspace can be transformed into polynomial time. PSPACE-complete problems are the most complex problems in PSPACE, the class of decision problems solvable in polynomial space, since a solution to one problem could also be used to solve any other problem in PSPACE.\n",
    "\n",
    "Examples known to be PSPACE-complete are used in context depending grammars, sequence of characters that specify a search pattern in text (regular expression), determining the truth of Boolean formulas, many puzzles and games and step-by-step updates between solutions of combinatorial optimization problems.\n",
    "\n",
    "'Draughts' and 'Super Mario Bros' are examples of problems that are PSPACE-complete when expressed as decision problems. \n",
    "\n",
    "#### P time\n",
    "\n",
    "\"In computational complexity theory, P, also known as PTIME or DTIME(nO(1)), is a fundamental complexity class.\"https://en.wikipedia.org/wiki/P_(complexity). In this class it contains all decision problems which can be solved on a turing machine deterministically using a polynomial amount of computation time.\n",
    "***"
   ]
  },
  {
   "cell_type": "markdown",
   "id": "cb4f7ad3-7d6d-4c20-8867-2224bac8640a",
   "metadata": {},
   "source": [
    "### Polynomial time\n",
    "https://en.wikipedia.org/wiki/Time_complexity#Polynomial_time\n",
    "***\n",
    "Polynomial-time runs its time T(N) is *O*((log n)$^k$) for some constant k. It can also be written as *O*(log$^k$ n). Deterministic problems belonging to PTime class complexity "
   ]
  },
  {
   "cell_type": "markdown",
   "id": "4e5c1261-81aa-4b8d-a49d-4567787a5012",
   "metadata": {},
   "source": [
    "| Class | Definition |\n",
    "| --- | --- | \n",
    "|**P**| **Complexity class of decision problems can be solved on a deterministic turing machine in polynomial time.** |\n",
    "|**NP**| **Complexity class of decision problems can be solved on a non-deterministic turing machine in polynomial time.** |\n",
    "|**ZPP**| **Complexity class of decision problems can be solved with zero error on a probabilistic turing machine in polynomial time.** |\n",
    "|**RP**| **Complexity class of decision problems can be solved with 1-sided error on a probabilistic turing machine in polynomial time.** |\n",
    "|**BPP**| **Complexity class of decision problems can be solved with 2-sided error on a probabilistic turing machine in polynomial time.** |\n",
    "|**BQP**| **Complexity class of decision problems can be solved with 2-sided error on a quantum turing machine in polynomial time.** |"
   ]
  },
  {
   "cell_type": "markdown",
   "id": "30782d0d-4745-4008-99b5-57df63a0b681",
   "metadata": {},
   "source": [
    "#### Itertools\n",
    "Is a set of functions used for working with sequence data sets. These functions were inspired by functional programming languages such as Clojure, Haskell, APL, and SML. The goal is to be fast and use memory efficiently while also being hooked together to express more complicated iteration-based algothrims. The iteration based code uses the memory more efficiently compared to code that uses lists. As the data is o produced from the iterator until it's needed, all of the data doesn't need to be stored in memory at the same time."
   ]
  },
  {
   "cell_type": "markdown",
   "id": "7e2ec6e1-c5cd-4bed-99b4-00778ebbad20",
   "metadata": {},
   "source": [
    "### Itertools for BPCP\n",
    "***\n",
    "https://realpython.com/python-itertools/\n",
    "https://docs.python.org/3/library/itertools.html#module-itertools"
   ]
  },
  {
   "cell_type": "code",
   "execution_count": null,
   "id": "a2b4e93d-ce50-4d46-9bfc-1a50927a5eff",
   "metadata": {},
   "outputs": [],
   "source": [
    "# A very useful module in the Python standard library.\n",
    "import itertools as it"
   ]
  },
  {
   "cell_type": "code",
   "execution_count": null,
   "id": "45fecb86-a5d1-4626-8fa5-b0ee4b827991",
   "metadata": {},
   "outputs": [],
   "source": [
    "# Write a solver for the bounded version, K being the number of tiles\n",
    "def bpcp_solver(L1, L2, k):\n",
    "    \n",
    "    # The generators\n",
    "    gens = []\n",
    "    \n",
    "    #innitalise arrays\n",
    "    string1 = []\n",
    "    string2 = []\n",
    "    \n",
    "    # arrays for concatination\n",
    "    string1Con = []\n",
    "    string2Con = []\n",
    "    \n",
    "    # empty sets to read in the new list\n",
    "    L3={}\n",
    "    L4={}\n",
    "    \n",
    "    # Loop through all possible solutions.\n",
    "    for i in range(1, k + 1):\n",
    "        # Create a generator for solutions of length i, append it to gens.\n",
    "        gens.append(it.product(*([range(len(L1))] * i)))\n",
    "        \n",
    "    # it.chain  function takes several iterators as arguments and returns a single \n",
    "    # iterator that produces the contents of all of the inputs as though they came from a single iterator.\n",
    "    for solution in it.chain(*gens):\n",
    "        # Adding string to an array and removing the space inbetween them, each element in the solution is added onto the input array\n",
    "        string1.append([''.join(L1[i]) for i in solution])\n",
    "        string2.append([''.join(L2[i]) for i in solution])\n",
    "    \n",
    "    # Elements in string 1 and string 2 are concatenated together\n",
    "    for solution in range(len(string1)):\n",
    "        # Creating string 1 solution space (list of all possible solutions)\n",
    "        string1Con.append((\"\".join(string1[solution])))\n",
    "    for solution in range(len(string2)):\n",
    "        # Creating string 2 solution space (list of all possible solutions)\n",
    "        string2Con.append((\"\".join(string2[solution])))\n",
    "    \n",
    "    # converts list's to set, In order to get access to the intersection method\n",
    "    L3 = set(string1Con)\n",
    "    L4 = set(string2Con)\n",
    "    \n",
    "    # If sets intersect this implys there is a solution \n",
    "    if(set.intersection(L3,L4)):\n",
    "        return True\n",
    "    else:\n",
    "        return False"
   ]
  },
  {
   "cell_type": "code",
   "execution_count": null,
   "id": "ab4de149-58a8-47cf-ab19-a6c75edd7382",
   "metadata": {},
   "outputs": [],
   "source": [
    "a = 'a'\n",
    "b = 'b'\n",
    "L1 = ((a),(a, a),(a, a, a))\n",
    "L2 = ((b, b, b),(b, b),(b, b))"
   ]
  },
  {
   "cell_type": "code",
   "execution_count": null,
   "id": "a8f2a649-3bcc-4d39-bb1b-54f75ca17927",
   "metadata": {},
   "outputs": [],
   "source": [
    "bpcp_solver(L1, L2, 3)"
   ]
  },
  {
   "cell_type": "code",
   "execution_count": null,
   "id": "1106ead4-32e5-4597-9459-56e259c2e438",
   "metadata": {},
   "outputs": [],
   "source": [
    "a = 'a'\n",
    "b = 'b'\n",
    "L1 = ((a),(b, a),(b, b, a))\n",
    "L2 = ((b, a, b),(a, b),(a, a))"
   ]
  },
  {
   "cell_type": "code",
   "execution_count": null,
   "id": "081a9e1e-c9ea-4336-b7ad-74fdd2968020",
   "metadata": {},
   "outputs": [],
   "source": [
    "bpcp_solver(L1, L2, 3)"
   ]
  },
  {
   "cell_type": "markdown",
   "id": "fd68a6c3-8d0a-4b74-ad48-bac620f7b9c6",
   "metadata": {},
   "source": [
    "# Refrences\n",
    "***"
   ]
  },
  {
   "cell_type": "markdown",
   "id": "fbac35e9-1bd3-4387-9b20-2bf4e83a0a2e",
   "metadata": {},
   "source": [
    "1. https://learnonline.gmit.ie/course/view.php?id=5197\n",
    "2. https://en.wikipedia.org/wiki/Post_correspondence_problem#:~:text=One%20of%20the%20most%20important,the%20problem%20is%20NP%2Dcomplete.\n",
    "3. https://cs.stackexchange.com/questions/66023/what-is-k-in-the-bounded-post-correspondence-problem\n",
    "4. https://cs.stackexchange.com/questions/701/decidable-restrictions-of-the-post-correspondence-problem/4638#4638\n",
    "5. https://www.sciencedirect.com/science/article/pii/S0304397599001632?via%3Dihub\n",
    "6. https://cstheory.stackexchange.com/questions/12518/bounded-post-correspondence-problem-np-complete-proof\n",
    "7. https://en.wikipedia.org/wiki/Decision_problem\n",
    "8. https://en.wikipedia.org/wiki/NP-completeness\n",
    "9. https://en.wikipedia.org/wiki/Boolean_satisfiability_problem\n",
    "10. https://www.geeksforgeeks.org/post-correspondence-problem/\n",
    "11. https://en.wikipedia.org/wiki/PSPACE-complete\n",
    "12. https://en.wikipedia.org/wiki/P_(complexity)\n",
    "13. https://en.wikipedia.org/wiki/Time_complexity#Polynomial_time\n",
    "14. https://en.wikipedia.org/wiki/Polynomial\n",
    "15. https://docs.python.org/3/library/itertools.html#module-itertools\n",
    "16. https://www.youtube.com/watch?v=H4Uk1Qvsuwo\n",
    "17. https://realpython.com/python-itertools/\n",
    "18. https://pymotw.com/3/itertools/index.html\n",
    "19. https://treyhunner.com/2018/03/tuple-unpacking-improves-python-code-readability/\n",
    "20. https://www.w3schools.com/python/ref_set_intersection.asp\n",
    "21. https://users.monash.edu.au/~leo/research/papers/files/lcb96-01.pdf\n",
    "22. https://www.geeksforgeeks.org/undecidability-and-reducibility-in-toc/"
   ]
  },
  {
   "cell_type": "markdown",
   "id": "680921e0-53ed-40c2-a198-1c3d0f10d683",
   "metadata": {},
   "source": [
    "***\n",
    "# END\n"
   ]
  }
 ],
 "metadata": {
  "kernelspec": {
   "display_name": "Python 3 (ipykernel)",
   "language": "python",
   "name": "python3"
  },
  "language_info": {
   "codemirror_mode": {
    "name": "ipython",
    "version": 3
   },
   "file_extension": ".py",
   "mimetype": "text/x-python",
   "name": "python",
   "nbconvert_exporter": "python",
   "pygments_lexer": "ipython3",
   "version": "3.8.12"
  }
 },
 "nbformat": 4,
 "nbformat_minor": 5
}
