{
 "cells": [
  {
   "cell_type": "markdown",
   "id": "f53636ed-cb2c-4164-9abd-13cc8c69c903",
   "metadata": {},
   "source": [
    "# Post Corresponence Problem\n",
    "https://en.wikipedia.org/wiki/Post_correspondence_problem\n",
    "***"
   ]
  },
  {
   "cell_type": "markdown",
   "id": "fe75b9a6-ee8f-458a-9ef6-009d33f17708",
   "metadata": {
    "tags": []
   },
   "source": [
    "# What is post correspondence problem?\n",
    "<br>\n",
    "The Post Correspondence Problem (PCP), was introduced by Emil Post in 1946 and it is an undecidable decision problem.\n",
    "\n",
    "# Undecidable\n",
    "It is undecidable as there is no particular algothrim that determines whether any Post Correspondence System has an solution or not.\n",
    "<br>\n",
    "# Decision Problem\n",
    "A decision problem is a problem that can be posed as Yes or No questions. The standard decision procedure is \" given two numbers x and y, does x evenly divide y?\" if the remainder is 0 then the awnser is yes, otherwise no.\n",
    "<br>\n",
    "\n",
    "The PCP is used to determine wheather a collection Dominos(tiles) has a match. Escentially if we had two lists that contained N words, the aim is to find out a concatenation of these words in some sequence such that both lists yield the same result.\n",
    "<br>\n",
    "\n",
    "The PCP consists of two lists of strings that are of equal length over the input. The two lists are  $A = w1, w2, w3, .... , wn$ and$ B = x1, x2, x3, .... xn$ then there exists a non empty set of integers $i1, i2, i3, .. ,$ in such that $w1, w2, w3, .... wn = x1, x2, x3, .... xn$"
   ]
  },
  {
   "cell_type": "markdown",
   "id": "0b7e7650-8326-4d64-b808-1e1d1a3fc307",
   "metadata": {},
   "source": [
    "For example a correspondence system as that has a solution $A = (b, bab^3, ba) and B = (b^3, ba, a).$ The input set is ∑ = {0, 1}. The solution would be 2, 1, 1, 3. That means w2w1w1w3 = x2x1x1x3\n"
   ]
  },
  {
   "cell_type": "markdown",
   "id": "6af4b20e-4827-47a3-bcf4-907d7e25f9d8",
   "metadata": {},
   "source": [
    "| w2 | w1 | w1 | w3 |\n",
    "| --- | --- | --- | --- |\n",
    "| ba$b^3$ | b | b | ba |\n",
    "|-----|-----|-----|-----|\n",
    "| x2 | x1 | x1 | x3 |\n",
    "|-----|-----|-----|-----|\n",
    "| ba | $b^3$ | $b^3$ | w3 |"
   ]
  },
  {
   "cell_type": "markdown",
   "id": "3c088345-afff-4874-b8e7-43c4ecf0c795",
   "metadata": {},
   "source": [
    "An Correspondence System that has no solution would be $A = (100, 0, 1)$ and $B = (1, 100, 00).$"
   ]
  },
  {
   "cell_type": "markdown",
   "id": "83b7f90d-a60a-4c0d-9069-63277daa581d",
   "metadata": {},
   "source": [
    "| A1 | A2 | A3 |\n",
    "| --- | --- | --- |\n",
    "| 100 | 0 | 1 |\n",
    "| --- | --- | --- |\n",
    "| B1 | B2 | B3 |\n",
    "| --- | --- | --- |\n",
    "| 1 | 100 | 00 |"
   ]
  },
  {
   "cell_type": "markdown",
   "id": "59bc1b52-8969-4031-a311-d7aaf6687949",
   "metadata": {},
   "source": [
    "### Step-1:\n",
    "On the start our only option is tile 1 as both string start with 1, this gives us 100 for the numerator and 1 for the denominator.\n",
    "<br>\n",
    "### Step-2:\n",
    "Next we have an additional 00 in the numerator, to balance this out we must add tile 3 to the sequence, this gives us 100 1 for the numerator and 1 00 for the denominator.\n",
    "<br>\n",
    "### Step-3:\n",
    "We now have an extra 1 in the numerator, to even this out we can either add tile 1 or tile 2 if we do 1 first we would get, 100 1 100 for the numerator and 1 00 1 for the denominator. If we took tile 2 we would get 100 1 0 for the numerator and 1 00 100 for the denominator.\n",
    "<br>\n",
    "### Step-4:\n",
    "With tile 1 we have an additional 100 with the numerator, to balance this out we can add the first tile, this gives us 100 1 100 100 for the numerator and 1 00 1 1 1 for the denominator. In this case the sixth digit in the numerator is different to the denominator\n",
    "<br>\n",
    "With tile 2 we have an additional 0 with the denominator, to balance this out we can add the second tile, this gives us 100 1 0 0 for the numerator and 1 00 100 100 for the denominator. \n",
    "<br>\n",
    "### Step-4:\n",
    "With this we have an additional 100 with the denominator, to balance this out we can add the first tile, this gives us 100 1 0 0 100 for the numerator and 1 00 100 100 1 for the denominator. This will keep on but the two strings will not match\n",
    "<br>\n",
    "We could try unlimited combinations like one above but none of combination will lead us to solution, thus this problem does not have solution.\n",
    "\n",
    "Here is an example using Python"
   ]
  },
  {
   "cell_type": "markdown",
   "id": "563c3211-a7b8-47b4-9216-b62129633f5e",
   "metadata": {},
   "source": [
    "\n",
    "| A1 | A2 | A3 |\n",
    "| --- | --- | --- |\n",
    "| 1 | 10111 | 10 |\n",
    "| --- | --- | --- |\n",
    "| B1 | B2 | B3 |\n",
    "| --- | --- | --- |\n",
    "| 111 | 10 | 0 |"
   ]
  },
  {
   "cell_type": "code",
   "execution_count": 13,
   "id": "6e0092c2-125a-4f13-a410-4d8f422024fb",
   "metadata": {},
   "outputs": [],
   "source": [
    "a = 'a'\n",
    "b = 'b'\n",
    "# First list.\n",
    "L1 = ((b), (b,a,b,b,b), (b,a))\n",
    "# Second list.\n",
    "L2 = ((b,b,b), (b,a), (a))\n",
    "# A proposed solution.\n",
    "S = (1, 0, 0, 2)"
   ]
  },
  {
   "cell_type": "code",
   "execution_count": 14,
   "id": "d744b659-4d8c-4b19-bcbb-4f4055ab3ee0",
   "metadata": {},
   "outputs": [
    {
     "data": {
      "text/plain": [
       "('b', ('b', 'a', 'b', 'b', 'b'), ('b', 'a'))"
      ]
     },
     "execution_count": 14,
     "metadata": {},
     "output_type": "execute_result"
    }
   ],
   "source": [
    "L1\n"
   ]
  },
  {
   "cell_type": "code",
   "execution_count": 15,
   "id": "20ad12a4-9707-4a11-ad45-bc70ee440228",
   "metadata": {},
   "outputs": [
    {
     "data": {
      "text/plain": [
       "(('b', 'b', 'b'), ('b', 'a'), 'a')"
      ]
     },
     "execution_count": 15,
     "metadata": {},
     "output_type": "execute_result"
    }
   ],
   "source": [
    "L2"
   ]
  },
  {
   "cell_type": "code",
   "execution_count": 16,
   "id": "50a7a878-17c6-4ad5-8afe-096dab20dd20",
   "metadata": {},
   "outputs": [],
   "source": [
    "# Apply the proposed solution to a tuple.\n",
    "def apply(S, L):\n",
    "    S_on_L = [''.join(L[i]) for i in S]\n",
    "    return ''.join(S_on_L)"
   ]
  },
  {
   "cell_type": "code",
   "execution_count": 17,
   "id": "2a4fcdfc-6b86-48bd-b6fc-a4389a89e57b",
   "metadata": {},
   "outputs": [
    {
     "data": {
      "text/plain": [
       "'babbbbbba'"
      ]
     },
     "execution_count": 17,
     "metadata": {},
     "output_type": "execute_result"
    }
   ],
   "source": [
    "# Apply S to L1.\n",
    "apply(S, L1)"
   ]
  },
  {
   "cell_type": "code",
   "execution_count": 18,
   "id": "06a3c9c2-b4bd-4b69-b765-e8a80c2f4748",
   "metadata": {},
   "outputs": [
    {
     "data": {
      "text/plain": [
       "'babbbbbba'"
      ]
     },
     "execution_count": 18,
     "metadata": {},
     "output_type": "execute_result"
    }
   ],
   "source": [
    "# Apply S to L2.\n",
    "apply(S, L2)"
   ]
  },
  {
   "cell_type": "code",
   "execution_count": 19,
   "id": "27bec790-da23-4af4-b9b9-bb896b7d3c16",
   "metadata": {},
   "outputs": [
    {
     "data": {
      "text/plain": [
       "True"
      ]
     },
     "execution_count": 19,
     "metadata": {},
     "output_type": "execute_result"
    }
   ],
   "source": [
    "# Get Python to check if the proposed solution is a solution.\n",
    "apply(S, L1) == apply(S, L2)"
   ]
  },
  {
   "cell_type": "code",
   "execution_count": 20,
   "id": "97c282b2-a29e-4f2f-8576-d03680c2c929",
   "metadata": {},
   "outputs": [
    {
     "data": {
      "text/plain": [
       "'babbbbbbababbbbbba'"
      ]
     },
     "execution_count": 20,
     "metadata": {},
     "output_type": "execute_result"
    }
   ],
   "source": [
    "# Another solution - there are infinitely many.\n",
    "apply((1, 0, 0, 2, 1, 0, 0, 2), L1)"
   ]
  },
  {
   "cell_type": "code",
   "execution_count": 21,
   "id": "0b5154aa-e6c1-4814-8f82-31d74497b690",
   "metadata": {},
   "outputs": [
    {
     "data": {
      "text/plain": [
       "'babbbbbbababbbbbba'"
      ]
     },
     "execution_count": 21,
     "metadata": {},
     "output_type": "execute_result"
    }
   ],
   "source": [
    "apply((1, 0, 0, 2, 1, 0, 0, 2), L2)"
   ]
  },
  {
   "cell_type": "code",
   "execution_count": 22,
   "id": "a25a2ed2-a687-4562-bf22-ce014b528024",
   "metadata": {},
   "outputs": [
    {
     "data": {
      "text/plain": [
       "True"
      ]
     },
     "execution_count": 22,
     "metadata": {},
     "output_type": "execute_result"
    }
   ],
   "source": [
    "apply(S, L1) == apply(S, L2)"
   ]
  },
  {
   "cell_type": "markdown",
   "id": "23169fd1-31a3-40bc-ab74-54bfa6c20383",
   "metadata": {},
   "source": [
    "# Bounded PCP\n",
    "***"
   ]
  },
  {
   "cell_type": "markdown",
   "id": "64ce10b2-f6c4-488a-8e99-77f610431763",
   "metadata": {},
   "source": [
    "## What is the Bounded Post Correspondence Problem.\n",
    "One of the most important variants of PCP is the bounded Post correspondence problem, which asks if we can find a match using no more than k tiles, including repeated tiles. A brute force search solves the problem in time O(2k), but this may be difficult to improve upon, since the problem is NP-complete.\n",
    "\n",
    "If we had a list of M=(bba,ab,bba,a) and N=(bb,aa,bb,baa) so in tile form it loks like so."
   ]
  },
  {
   "cell_type": "markdown",
   "id": "f2840c85-538f-4c64-8aca-d79519fd2c1b",
   "metadata": {},
   "source": [
    "| M | bba | ab | bba | a |\n",
    "| --- | --- | --- | --- | --- |\n",
    "|**N**| **bb** | **aa** | **bb** | **baa** |\n",
    "\n"
   ]
  },
  {
   "cell_type": "markdown",
   "id": "8d8d402c-b3d1-4f1d-8f41-4c1acdf5eda3",
   "metadata": {},
   "source": [
    "The problem is equivalent to finding a sequence of tiles with repetition allowerd so that the concatenation pf the upper half and lower half gives the same string. And K is the number of tiles that can be used. How ever there are different interpretations of K such as Yuval Filmus, where K is the maximum length  of concatenated string, in which case the bounded PCP problem is Pspace complete. But the majority of books refer to K as being number of tiles that are allowed such as in Sipser's book. In this case we are looking for the lists of two different strings to match and if true the correspond, else false."
   ]
  },
  {
   "cell_type": "markdown",
   "id": "2af8bcc3-3581-48d2-9ebb-07b1388e0e07",
   "metadata": {
    "jp-MarkdownHeadingCollapsed": true,
    "tags": []
   },
   "source": [
    "### NP-complete\n",
    "occurs when a problem has a solution that can be verified quickly and a brute force search algothrim can find a solution by trying all possible solutions. NP-complete comes from \"nondeterministic polynomial-time complete\" and the nondeterministic refers to a way of mathematically formalizing the idea of a brute force search algothrim. the Polynomial time refers to period of time thats is considered \"quick\" for the deterministic algothrim to check for a single solution. Or for nondeterministicd to search all options."
   ]
  },
  {
   "cell_type": "markdown",
   "id": "8aeb1d3b-bb15-4a92-85d0-82685693e496",
   "metadata": {},
   "source": [
    "### Pspace-complete\n",
    "is where a decision problem can be solved using an amount of memory that is polynomial (an expression consisting of  indeterminates /variables and coefficients, that can only add,subtract, multiply and non-negative integer exponetion of variables) in the input length and also every other problem that can be solved in pylonomial space can be transformed into polynomial time.\n",
    "\n",
    "#### Polynomial time\n",
    "Polynomial time runs its time T(N) is *O*((log n)$^k$) for some constant k. it can also be written as *O*(log$^k$ n)\n",
    "//more on Poly time\n",
    "\n",
    "#### P time"
   ]
  },
  {
   "cell_type": "code",
   "execution_count": null,
   "id": "61b5a74d-c70b-479c-a90f-3012ce4bc054",
   "metadata": {},
   "outputs": [],
   "source": []
  }
 ],
 "metadata": {
  "kernelspec": {
   "display_name": "Python 3 (ipykernel)",
   "language": "python",
   "name": "python3"
  },
  "language_info": {
   "codemirror_mode": {
    "name": "ipython",
    "version": 3
   },
   "file_extension": ".py",
   "mimetype": "text/x-python",
   "name": "python",
   "nbconvert_exporter": "python",
   "pygments_lexer": "ipython3",
   "version": "3.8.12"
  }
 },
 "nbformat": 4,
 "nbformat_minor": 5
}
